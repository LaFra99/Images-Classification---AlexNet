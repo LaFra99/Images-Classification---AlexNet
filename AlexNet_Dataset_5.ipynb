{
  "nbformat": 4,
  "nbformat_minor": 0,
  "metadata": {
    "colab": {
      "provenance": [],
      "mount_file_id": "1TNlAd3Twi1UQGnRtdY0gmUxexH9hLiwp",
      "authorship_tag": "ABX9TyMObgizZyC3XCh3CiaY4DIg",
      "include_colab_link": true
    },
    "kernelspec": {
      "name": "python3",
      "display_name": "Python 3"
    },
    "language_info": {
      "name": "python"
    },
    "accelerator": "GPU",
    "gpuClass": "standard"
  },
  "cells": [
    {
      "cell_type": "markdown",
      "metadata": {
        "id": "view-in-github",
        "colab_type": "text"
      },
      "source": [
        "<a href=\"https://colab.research.google.com/github/LaFra99/Images-Classification---AlexNet/blob/main/AlexNet_Dataset_5.ipynb\" target=\"_parent\"><img src=\"https://colab.research.google.com/assets/colab-badge.svg\" alt=\"Open In Colab\"/></a>"
      ]
    },
    {
      "cell_type": "markdown",
      "source": [
        "# ASL  FINGERSPELLING IMAGES (RGB and Depth Images)"
      ],
      "metadata": {
        "id": "pSxFDK7FxM5Y"
      }
    },
    {
      "cell_type": "markdown",
      "source": [
        "**Project of Francesca Mori**\n",
        "\n",
        " **Student_ID: 5114382**"
      ],
      "metadata": {
        "id": "KgWvQecK4MU-"
      }
    },
    {
      "cell_type": "markdown",
      "source": [
        "Links of reference:\n",
        "\n",
        "- Kaggle page of reference: https://www.kaggle.com/datasets/mrgeislinger/asl-rgb-depth-fingerspelling-spelling-it-out\n",
        "\n",
        "- Page where to find the dataset: https://empslocal.ex.ac.uk/people/staff/np331/index.php?section=FingerSpellingDataset"
      ],
      "metadata": {
        "id": "Eq6iwDktxYuY"
      }
    },
    {
      "cell_type": "markdown",
      "source": [
        "**An important note about the choice of dataset**:\n",
        "\n",
        "On this page https://empslocal.ex.ac.uk/people/staff/np331/index.php?section=FingerSpellingDataset there are two kind of datasets:\n",
        "- Dataset A with 5 users\n",
        "- Dataset B with 9 users\n",
        "\n",
        "Initially, I've started my project by using Dataset B with 9 users; however, after many tries I've faced a problem properly related to the kind of data.\n",
        "The data in this dataset are only of Depth type, but the biggest problem was about the quality of those data that was very low to the point that it was difficult to recognise whats in the images also through the human eye .\n",
        "\n",
        "For this reason I decided to approach Dataset A, with five users, that contains RGB images of a better quality and to proceed by developing the current project on it."
      ],
      "metadata": {
        "id": "fsdBJJsHDrhw"
      }
    },
    {
      "cell_type": "markdown",
      "source": [
        "**Dataset Introduction:**\n",
        "\n",
        "Dataset A contains cropped RGB images representing the ASL (American Sign Language) handshapes corresponding to 24* letters of the English Alphabet.\n",
        "\n",
        "Images belong to 5 different non-native signers, so the dataset is composed of five folders representing the five signers and for each user-folder there is a complex of sub-folders divided per letter.\n",
        "* **Note**: letters 'J' and 'Z' were excluded from this dataset since their representation is related to a movement, and so not capturable in a picture.\n",
        "* **Note**: 'G' handshape representation is incorrect in terms of ASL correctness.\n",
        "\n",
        "So, in terms of data:\n",
        "\n",
        "The dataset is composed of:\n",
        "- 5 folders representing 5 signers\n",
        "- for each signer-folder there are 24 sub-folders representing the static signs *(the number 24 is explained by the exclusion of letters 'j' and 'z')\n",
        "- total number of files: 131.668 files"
      ],
      "metadata": {
        "id": "xt0TJPboxUAI"
      }
    },
    {
      "cell_type": "markdown",
      "source": [
        "**Better to use the full dataset or a sufficient sample?**\n",
        "- In the beginning, I've extrapolated a uniformly and randomly distributed sample from the dataset; however, the accuracy of my model even by modifying many parameters and models as well didn't reach the sufficiency.\n",
        "\n",
        "So,  after many tries, I've decided to consider the whole dataset to see if there would have been any difference in terms of datas learning.\n",
        "\n",
        "As expected, by considering a larger size of data, the model started performing better and this is why I decided to proceed considering all the data I had."
      ],
      "metadata": {
        "id": "ihIZ2sKqx3nT"
      }
    },
    {
      "cell_type": "markdown",
      "source": [
        "# Initial reading and analysis of data:"
      ],
      "metadata": {
        "id": "0Cfh3Kgtx3he"
      }
    },
    {
      "cell_type": "markdown",
      "source": [
        "- Required packages and libraries:"
      ],
      "metadata": {
        "id": "L-68C5DVyGSd"
      }
    },
    {
      "cell_type": "code",
      "execution_count": null,
      "metadata": {
        "colab": {
          "base_uri": "https://localhost:8080/"
        },
        "id": "b99xBapSpstE",
        "outputId": "b837c0d8-9eda-473a-e8a0-cff47c6c0021"
      },
      "outputs": [
        {
          "output_type": "stream",
          "name": "stdout",
          "text": [
            "Looking in indexes: https://pypi.org/simple, https://us-python.pkg.dev/colab-wheels/public/simple/\n",
            "Requirement already satisfied: torch in /usr/local/lib/python3.8/dist-packages (1.13.0+cu116)\n",
            "Requirement already satisfied: torchvision in /usr/local/lib/python3.8/dist-packages (0.14.0+cu116)\n",
            "Requirement already satisfied: typing-extensions in /usr/local/lib/python3.8/dist-packages (from torch) (4.4.0)\n",
            "Requirement already satisfied: pillow!=8.3.*,>=5.3.0 in /usr/local/lib/python3.8/dist-packages (from torchvision) (7.1.2)\n",
            "Requirement already satisfied: requests in /usr/local/lib/python3.8/dist-packages (from torchvision) (2.23.0)\n",
            "Requirement already satisfied: numpy in /usr/local/lib/python3.8/dist-packages (from torchvision) (1.21.6)\n",
            "Requirement already satisfied: urllib3!=1.25.0,!=1.25.1,<1.26,>=1.21.1 in /usr/local/lib/python3.8/dist-packages (from requests->torchvision) (1.24.3)\n",
            "Requirement already satisfied: chardet<4,>=3.0.2 in /usr/local/lib/python3.8/dist-packages (from requests->torchvision) (3.0.4)\n",
            "Requirement already satisfied: idna<3,>=2.5 in /usr/local/lib/python3.8/dist-packages (from requests->torchvision) (2.10)\n",
            "Requirement already satisfied: certifi>=2017.4.17 in /usr/local/lib/python3.8/dist-packages (from requests->torchvision) (2022.12.7)\n",
            "Looking in indexes: https://pypi.org/simple, https://us-python.pkg.dev/colab-wheels/public/simple/\n",
            "Collecting d2l==1.0.0a1.post0\n",
            "  Downloading d2l-1.0.0a1.post0-py3-none-any.whl (93 kB)\n",
            "\u001b[K     |████████████████████████████████| 93 kB 668 kB/s \n",
            "\u001b[?25hCollecting matplotlib-inline\n",
            "  Downloading matplotlib_inline-0.1.6-py3-none-any.whl (9.4 kB)\n",
            "Collecting jupyter\n",
            "  Downloading jupyter-1.0.0-py2.py3-none-any.whl (2.7 kB)\n",
            "Requirement already satisfied: pandas in /usr/local/lib/python3.8/dist-packages (from d2l==1.0.0a1.post0) (1.3.5)\n",
            "Requirement already satisfied: gym in /usr/local/lib/python3.8/dist-packages (from d2l==1.0.0a1.post0) (0.25.2)\n",
            "Requirement already satisfied: numpy in /usr/local/lib/python3.8/dist-packages (from d2l==1.0.0a1.post0) (1.21.6)\n",
            "Requirement already satisfied: matplotlib in /usr/local/lib/python3.8/dist-packages (from d2l==1.0.0a1.post0) (3.2.2)\n",
            "Requirement already satisfied: requests in /usr/local/lib/python3.8/dist-packages (from d2l==1.0.0a1.post0) (2.23.0)\n",
            "Requirement already satisfied: cloudpickle>=1.2.0 in /usr/local/lib/python3.8/dist-packages (from gym->d2l==1.0.0a1.post0) (1.5.0)\n",
            "Requirement already satisfied: importlib-metadata>=4.8.0 in /usr/local/lib/python3.8/dist-packages (from gym->d2l==1.0.0a1.post0) (5.1.0)\n",
            "Requirement already satisfied: gym-notices>=0.0.4 in /usr/local/lib/python3.8/dist-packages (from gym->d2l==1.0.0a1.post0) (0.0.8)\n",
            "Requirement already satisfied: zipp>=0.5 in /usr/local/lib/python3.8/dist-packages (from importlib-metadata>=4.8.0->gym->d2l==1.0.0a1.post0) (3.11.0)\n",
            "Collecting qtconsole\n",
            "  Downloading qtconsole-5.4.0-py3-none-any.whl (121 kB)\n",
            "\u001b[K     |████████████████████████████████| 121 kB 26.0 MB/s \n",
            "\u001b[?25hRequirement already satisfied: notebook in /usr/local/lib/python3.8/dist-packages (from jupyter->d2l==1.0.0a1.post0) (5.7.16)\n",
            "Requirement already satisfied: ipykernel in /usr/local/lib/python3.8/dist-packages (from jupyter->d2l==1.0.0a1.post0) (5.3.4)\n",
            "Requirement already satisfied: ipywidgets in /usr/local/lib/python3.8/dist-packages (from jupyter->d2l==1.0.0a1.post0) (7.7.1)\n",
            "Requirement already satisfied: jupyter-console in /usr/local/lib/python3.8/dist-packages (from jupyter->d2l==1.0.0a1.post0) (6.1.0)\n",
            "Requirement already satisfied: nbconvert in /usr/local/lib/python3.8/dist-packages (from jupyter->d2l==1.0.0a1.post0) (5.6.1)\n",
            "Requirement already satisfied: traitlets>=4.1.0 in /usr/local/lib/python3.8/dist-packages (from ipykernel->jupyter->d2l==1.0.0a1.post0) (5.7.1)\n",
            "Requirement already satisfied: tornado>=4.2 in /usr/local/lib/python3.8/dist-packages (from ipykernel->jupyter->d2l==1.0.0a1.post0) (6.0.4)\n",
            "Requirement already satisfied: ipython>=5.0.0 in /usr/local/lib/python3.8/dist-packages (from ipykernel->jupyter->d2l==1.0.0a1.post0) (7.9.0)\n",
            "Requirement already satisfied: jupyter-client in /usr/local/lib/python3.8/dist-packages (from ipykernel->jupyter->d2l==1.0.0a1.post0) (6.1.12)\n",
            "Requirement already satisfied: pygments in /usr/local/lib/python3.8/dist-packages (from ipython>=5.0.0->ipykernel->jupyter->d2l==1.0.0a1.post0) (2.6.1)\n",
            "Requirement already satisfied: backcall in /usr/local/lib/python3.8/dist-packages (from ipython>=5.0.0->ipykernel->jupyter->d2l==1.0.0a1.post0) (0.2.0)\n",
            "Collecting jedi>=0.10\n",
            "  Downloading jedi-0.18.2-py2.py3-none-any.whl (1.6 MB)\n",
            "\u001b[K     |████████████████████████████████| 1.6 MB 27.3 MB/s \n",
            "\u001b[?25hRequirement already satisfied: prompt-toolkit<2.1.0,>=2.0.0 in /usr/local/lib/python3.8/dist-packages (from ipython>=5.0.0->ipykernel->jupyter->d2l==1.0.0a1.post0) (2.0.10)\n",
            "Requirement already satisfied: pexpect in /usr/local/lib/python3.8/dist-packages (from ipython>=5.0.0->ipykernel->jupyter->d2l==1.0.0a1.post0) (4.8.0)\n",
            "Requirement already satisfied: pickleshare in /usr/local/lib/python3.8/dist-packages (from ipython>=5.0.0->ipykernel->jupyter->d2l==1.0.0a1.post0) (0.7.5)\n",
            "Requirement already satisfied: setuptools>=18.5 in /usr/local/lib/python3.8/dist-packages (from ipython>=5.0.0->ipykernel->jupyter->d2l==1.0.0a1.post0) (57.4.0)\n",
            "Requirement already satisfied: decorator in /usr/local/lib/python3.8/dist-packages (from ipython>=5.0.0->ipykernel->jupyter->d2l==1.0.0a1.post0) (4.4.2)\n",
            "Requirement already satisfied: parso<0.9.0,>=0.8.0 in /usr/local/lib/python3.8/dist-packages (from jedi>=0.10->ipython>=5.0.0->ipykernel->jupyter->d2l==1.0.0a1.post0) (0.8.3)\n",
            "Requirement already satisfied: six>=1.9.0 in /usr/local/lib/python3.8/dist-packages (from prompt-toolkit<2.1.0,>=2.0.0->ipython>=5.0.0->ipykernel->jupyter->d2l==1.0.0a1.post0) (1.15.0)\n",
            "Requirement already satisfied: wcwidth in /usr/local/lib/python3.8/dist-packages (from prompt-toolkit<2.1.0,>=2.0.0->ipython>=5.0.0->ipykernel->jupyter->d2l==1.0.0a1.post0) (0.2.5)\n",
            "Requirement already satisfied: ipython-genutils~=0.2.0 in /usr/local/lib/python3.8/dist-packages (from ipywidgets->jupyter->d2l==1.0.0a1.post0) (0.2.0)\n",
            "Requirement already satisfied: widgetsnbextension~=3.6.0 in /usr/local/lib/python3.8/dist-packages (from ipywidgets->jupyter->d2l==1.0.0a1.post0) (3.6.1)\n",
            "Requirement already satisfied: jupyterlab-widgets>=1.0.0 in /usr/local/lib/python3.8/dist-packages (from ipywidgets->jupyter->d2l==1.0.0a1.post0) (3.0.4)\n",
            "Requirement already satisfied: pyzmq>=17 in /usr/local/lib/python3.8/dist-packages (from notebook->jupyter->d2l==1.0.0a1.post0) (23.2.1)\n",
            "Requirement already satisfied: Send2Trash in /usr/local/lib/python3.8/dist-packages (from notebook->jupyter->d2l==1.0.0a1.post0) (1.8.0)\n",
            "Requirement already satisfied: terminado>=0.8.1 in /usr/local/lib/python3.8/dist-packages (from notebook->jupyter->d2l==1.0.0a1.post0) (0.13.3)\n",
            "Requirement already satisfied: jinja2<=3.0.0 in /usr/local/lib/python3.8/dist-packages (from notebook->jupyter->d2l==1.0.0a1.post0) (2.11.3)\n",
            "Requirement already satisfied: nbformat in /usr/local/lib/python3.8/dist-packages (from notebook->jupyter->d2l==1.0.0a1.post0) (5.7.0)\n",
            "Requirement already satisfied: prometheus-client in /usr/local/lib/python3.8/dist-packages (from notebook->jupyter->d2l==1.0.0a1.post0) (0.15.0)\n",
            "Requirement already satisfied: jupyter-core>=4.4.0 in /usr/local/lib/python3.8/dist-packages (from notebook->jupyter->d2l==1.0.0a1.post0) (5.1.0)\n",
            "Requirement already satisfied: MarkupSafe>=0.23 in /usr/local/lib/python3.8/dist-packages (from jinja2<=3.0.0->notebook->jupyter->d2l==1.0.0a1.post0) (2.0.1)\n",
            "Requirement already satisfied: python-dateutil>=2.1 in /usr/local/lib/python3.8/dist-packages (from jupyter-client->ipykernel->jupyter->d2l==1.0.0a1.post0) (2.8.2)\n",
            "Requirement already satisfied: platformdirs>=2.5 in /usr/local/lib/python3.8/dist-packages (from jupyter-core>=4.4.0->notebook->jupyter->d2l==1.0.0a1.post0) (2.6.0)\n",
            "Requirement already satisfied: mistune<2,>=0.8.1 in /usr/local/lib/python3.8/dist-packages (from nbconvert->jupyter->d2l==1.0.0a1.post0) (0.8.4)\n",
            "Requirement already satisfied: testpath in /usr/local/lib/python3.8/dist-packages (from nbconvert->jupyter->d2l==1.0.0a1.post0) (0.6.0)\n",
            "Requirement already satisfied: entrypoints>=0.2.2 in /usr/local/lib/python3.8/dist-packages (from nbconvert->jupyter->d2l==1.0.0a1.post0) (0.4)\n",
            "Requirement already satisfied: pandocfilters>=1.4.1 in /usr/local/lib/python3.8/dist-packages (from nbconvert->jupyter->d2l==1.0.0a1.post0) (1.5.0)\n",
            "Requirement already satisfied: defusedxml in /usr/local/lib/python3.8/dist-packages (from nbconvert->jupyter->d2l==1.0.0a1.post0) (0.7.1)\n",
            "Requirement already satisfied: bleach in /usr/local/lib/python3.8/dist-packages (from nbconvert->jupyter->d2l==1.0.0a1.post0) (5.0.1)\n",
            "Requirement already satisfied: fastjsonschema in /usr/local/lib/python3.8/dist-packages (from nbformat->notebook->jupyter->d2l==1.0.0a1.post0) (2.16.2)\n",
            "Requirement already satisfied: jsonschema>=2.6 in /usr/local/lib/python3.8/dist-packages (from nbformat->notebook->jupyter->d2l==1.0.0a1.post0) (4.3.3)\n",
            "Requirement already satisfied: importlib-resources>=1.4.0 in /usr/local/lib/python3.8/dist-packages (from jsonschema>=2.6->nbformat->notebook->jupyter->d2l==1.0.0a1.post0) (5.10.1)\n",
            "Requirement already satisfied: attrs>=17.4.0 in /usr/local/lib/python3.8/dist-packages (from jsonschema>=2.6->nbformat->notebook->jupyter->d2l==1.0.0a1.post0) (22.1.0)\n",
            "Requirement already satisfied: pyrsistent!=0.17.0,!=0.17.1,!=0.17.2,>=0.14.0 in /usr/local/lib/python3.8/dist-packages (from jsonschema>=2.6->nbformat->notebook->jupyter->d2l==1.0.0a1.post0) (0.19.2)\n",
            "Requirement already satisfied: ptyprocess in /usr/local/lib/python3.8/dist-packages (from terminado>=0.8.1->notebook->jupyter->d2l==1.0.0a1.post0) (0.7.0)\n",
            "Requirement already satisfied: webencodings in /usr/local/lib/python3.8/dist-packages (from bleach->nbconvert->jupyter->d2l==1.0.0a1.post0) (0.5.1)\n",
            "Requirement already satisfied: pyparsing!=2.0.4,!=2.1.2,!=2.1.6,>=2.0.1 in /usr/local/lib/python3.8/dist-packages (from matplotlib->d2l==1.0.0a1.post0) (3.0.9)\n",
            "Requirement already satisfied: cycler>=0.10 in /usr/local/lib/python3.8/dist-packages (from matplotlib->d2l==1.0.0a1.post0) (0.11.0)\n",
            "Requirement already satisfied: kiwisolver>=1.0.1 in /usr/local/lib/python3.8/dist-packages (from matplotlib->d2l==1.0.0a1.post0) (1.4.4)\n",
            "Requirement already satisfied: pytz>=2017.3 in /usr/local/lib/python3.8/dist-packages (from pandas->d2l==1.0.0a1.post0) (2022.6)\n",
            "Collecting qtpy>=2.0.1\n",
            "  Downloading QtPy-2.3.0-py3-none-any.whl (83 kB)\n",
            "\u001b[K     |████████████████████████████████| 83 kB 2.6 MB/s \n",
            "\u001b[?25hRequirement already satisfied: packaging in /usr/local/lib/python3.8/dist-packages (from qtpy>=2.0.1->qtconsole->jupyter->d2l==1.0.0a1.post0) (21.3)\n",
            "Requirement already satisfied: chardet<4,>=3.0.2 in /usr/local/lib/python3.8/dist-packages (from requests->d2l==1.0.0a1.post0) (3.0.4)\n",
            "Requirement already satisfied: idna<3,>=2.5 in /usr/local/lib/python3.8/dist-packages (from requests->d2l==1.0.0a1.post0) (2.10)\n",
            "Requirement already satisfied: urllib3!=1.25.0,!=1.25.1,<1.26,>=1.21.1 in /usr/local/lib/python3.8/dist-packages (from requests->d2l==1.0.0a1.post0) (1.24.3)\n",
            "Requirement already satisfied: certifi>=2017.4.17 in /usr/local/lib/python3.8/dist-packages (from requests->d2l==1.0.0a1.post0) (2022.12.7)\n",
            "Installing collected packages: jedi, qtpy, qtconsole, matplotlib-inline, jupyter, d2l\n",
            "Successfully installed d2l-1.0.0a1.post0 jedi-0.18.2 jupyter-1.0.0 matplotlib-inline-0.1.6 qtconsole-5.4.0 qtpy-2.3.0\n"
          ]
        }
      ],
      "source": [
        "!pip install torch torchvision\n",
        "!pip install d2l==1.0.0a1.post0\n",
        "import torch\n",
        "from torchvision import transforms, datasets\n",
        "from torch.utils import data\n",
        "from d2l import torch as d2l\n",
        "import numpy as np\n",
        "import matplotlib.pyplot as plt\n",
        "d2l.use_svg_display()\n",
        "%matplotlib inline\n",
        "import os"
      ]
    },
    {
      "cell_type": "markdown",
      "source": [
        "- Opening of the dataset imported on google drive in zip format:"
      ],
      "metadata": {
        "id": "SjNxbEw6ylqQ"
      }
    },
    {
      "cell_type": "code",
      "source": [
        "from zipfile import ZipFile\n",
        "with ZipFile('/content/drive/MyDrive/Dataset_5.zip', 'r') as zipObj:\n",
        "    zipObj.extractall()"
      ],
      "metadata": {
        "id": "8KnL0xfDpxr4"
      },
      "execution_count": null,
      "outputs": []
    },
    {
      "cell_type": "markdown",
      "source": [
        "Use of OS Module:\n",
        "- through the use of os.mkdir() method, I've created two directories setting two empty 'train' and 'test' paths."
      ],
      "metadata": {
        "id": "d6hLtPjVy46g"
      }
    },
    {
      "cell_type": "code",
      "source": [
        "import os\n",
        "import shutil\n",
        "\n",
        "os.mkdir('/content/dataset5/train')\n",
        "os.mkdir('/content/dataset5/test')"
      ],
      "metadata": {
        "id": "d9wGNW6wpxst"
      },
      "execution_count": null,
      "outputs": []
    },
    {
      "cell_type": "markdown",
      "source": [
        "- Creating a set of folders, one per letter, into the new directories defined above."
      ],
      "metadata": {
        "id": "k_-km8BBzF8u"
      }
    },
    {
      "cell_type": "code",
      "source": [
        "labels = 'abcdefghiklmnopqrstuvwxy' # 24 labels\n",
        "for i in labels:\n",
        "  os.mkdir(f'/content/dataset5/train/{i}')\n",
        "  os.mkdir(f'/content/dataset5/test/{i}')"
      ],
      "metadata": {
        "id": "6IHM5seJpxwP"
      },
      "execution_count": null,
      "outputs": []
    },
    {
      "cell_type": "markdown",
      "source": [
        "- Use of os.listdir() method to get the list of all files in the defined directories, taking them from the original folders:"
      ],
      "metadata": {
        "id": "05svGGxAzxq5"
      }
    },
    {
      "cell_type": "code",
      "source": [
        "for i in 'ABCDE':\n",
        "  for j in os.listdir(f'/content/dataset5/{i}'):\n",
        "    allfiles=os.listdir(f'/content/dataset5/{i}/{j}')\n",
        "\n",
        "    train_size=int(0.8*len(allfiles))         # 80% of the data set as train size\n",
        "    source = f'/content/dataset5/{i}/{j}'\n",
        "    destination_train = f'/content/dataset5/train/{j}'   # train directory where to store my data for the train set\n",
        "    destination_test = f'/content/dataset5/test/{j}'     # test directory where to store my data for the test set\n",
        "\n",
        "    for f in allfiles[:train_size]:\n",
        "        src_path = os.path.join(source, f)\n",
        "        dst_path = os.path.join(destination_train, f)\n",
        "        shutil.move(src_path, dst_path)\n",
        "\n",
        "    for f in allfiles[train_size:]:\n",
        "        src_path = os.path.join(source, f)\n",
        "        dst_path = os.path.join(destination_test, f)\n",
        "        shutil.move(src_path, dst_path)"
      ],
      "metadata": {
        "id": "Fzt38d3wpxxB"
      },
      "execution_count": null,
      "outputs": []
    },
    {
      "cell_type": "code",
      "source": [
        "for i in ['train', 'test']:\n",
        "  for j in os.listdir(f'/content/dataset5/{i}'):\n",
        "    allfiles=os.listdir(f'/content/dataset5/{i}/{j}')\n",
        "\n",
        "    s=[]\n",
        "    for f in allfiles:\n",
        "      s.append(f.split('.')[1])\n",
        "    print(j, set(s))"
      ],
      "metadata": {
        "colab": {
          "base_uri": "https://localhost:8080/"
        },
        "id": "XHF4GGaCqQ5A",
        "outputId": "903f2e44-145d-46cb-afb5-3adf981efa7e"
      },
      "execution_count": null,
      "outputs": [
        {
          "output_type": "stream",
          "name": "stdout",
          "text": [
            "b {'png'}\n",
            "x {'png'}\n",
            "i {'png'}\n",
            "v {'png'}\n",
            "d {'png'}\n",
            "g {'png'}\n",
            "c {'png'}\n",
            "n {'png'}\n",
            "f {'png'}\n",
            "a {'png'}\n",
            "p {'png'}\n",
            "s {'png'}\n",
            "u {'png'}\n",
            "k {'png'}\n",
            "l {'png'}\n",
            "o {'png'}\n",
            "w {'png'}\n",
            "r {'png'}\n",
            "h {'png'}\n",
            "m {'png'}\n",
            "e {'png'}\n",
            "q {'png'}\n",
            "y {'png'}\n",
            "t {'png'}\n",
            "b {'png'}\n",
            "x {'png'}\n",
            "i {'png'}\n",
            "v {'png'}\n",
            "d {'png'}\n",
            "g {'png'}\n",
            "c {'png'}\n",
            "n {'png'}\n",
            "f {'png'}\n",
            "a {'png'}\n",
            "p {'png'}\n",
            "s {'png'}\n",
            "u {'png'}\n",
            "k {'png'}\n",
            "l {'png'}\n",
            "o {'png'}\n",
            "w {'png'}\n",
            "r {'png'}\n",
            "h {'png'}\n",
            "m {'png'}\n",
            "e {'png'}\n",
            "q {'png'}\n",
            "y {'png'}\n",
            "t {'png'}\n"
          ]
        }
      ]
    },
    {
      "cell_type": "markdown",
      "source": [
        "- My data are all in png's image format."
      ],
      "metadata": {
        "id": "7MzkOgxG0DYw"
      }
    },
    {
      "cell_type": "markdown",
      "source": [
        "**Data augmentation**: a set of techniques to increase the amount of data by generating new data points from existing data.\n",
        "This includes making small changes to data to generate new data point, here I've proceed by cropping, flipping and transforming in a Torch Tensor my data."
      ],
      "metadata": {
        "id": "RzYSjlDkk6CF"
      }
    },
    {
      "cell_type": "code",
      "source": [
        "data_augmentation = transforms.Compose([\n",
        "        transforms.RandomResizedCrop(224),\n",
        "        transforms.RandomHorizontalFlip(),\n",
        "        #transforms.Grayscale(),\n",
        "        transforms.ToTensor(),\n",
        "        #transforms.Normalize(mean=[0.485, 0.456, 0.406], std=[0.229, 0.224, 0.225])\n",
        "    ])\n",
        "\n",
        "train_dataset = datasets.ImageFolder(root='/content/dataset5/train', transform=data_augmentation)\n",
        "test_dataset = datasets.ImageFolder(root='/content/dataset5/test', transform=data_augmentation)\n",
        "train_set = data.DataLoader(train_dataset, batch_size=8, shuffle=True, num_workers=2) #prima era 4\n",
        "test_set = data.DataLoader(test_dataset, batch_size=8, shuffle=True, num_workers=2)"
      ],
      "metadata": {
        "id": "puHPmyglm6mz"
      },
      "execution_count": null,
      "outputs": []
    },
    {
      "cell_type": "code",
      "source": [
        "len(train_dataset.classes) # number of classes I want to predict"
      ],
      "metadata": {
        "colab": {
          "base_uri": "https://localhost:8080/"
        },
        "id": "3Yx9GRuV0rzL",
        "outputId": "7877f968-ef84-42ed-9bab-45101e3e5a4f"
      },
      "execution_count": null,
      "outputs": [
        {
          "output_type": "execute_result",
          "data": {
            "text/plain": [
              "24"
            ]
          },
          "metadata": {},
          "execution_count": 8
        }
      ]
    },
    {
      "cell_type": "code",
      "source": [
        "len(train_dataset), len(test_dataset) # more training data you have, the better it is"
      ],
      "metadata": {
        "colab": {
          "base_uri": "https://localhost:8080/"
        },
        "id": "t1DUnnjdQg3A",
        "outputId": "edf62e85-0ab8-41d2-c62e-8b48667c0695"
      },
      "execution_count": null,
      "outputs": [
        {
          "output_type": "execute_result",
          "data": {
            "text/plain": [
              "(23512, 5973)"
            ]
          },
          "metadata": {},
          "execution_count": 9
        }
      ]
    },
    {
      "cell_type": "code",
      "source": [
        "\n",
        "len(train_set), len(test_set)"
      ],
      "metadata": {
        "colab": {
          "base_uri": "https://localhost:8080/"
        },
        "id": "E9x145W3Qg9u",
        "outputId": "d2071faf-cd74-44a6-bf8f-8154540c52f0"
      },
      "execution_count": null,
      "outputs": [
        {
          "output_type": "execute_result",
          "data": {
            "text/plain": [
              "(2939, 747)"
            ]
          },
          "metadata": {},
          "execution_count": 10
        }
      ]
    },
    {
      "cell_type": "code",
      "source": [
        "data_iter = iter(train_set)"
      ],
      "metadata": {
        "id": "d53CheCEqYkC"
      },
      "execution_count": null,
      "outputs": []
    },
    {
      "cell_type": "code",
      "source": [
        "X, y = next(data_iter)  # get one minibatch: next prende un elemento all'interno dell'iter\n",
        "print(train_dataset[0][0].shape)\n",
        "print(X.shape) # X is (batch_size, channels, img height, img width)\n",
        "print(X[0].shape) # one image in proper channel(s)\n",
        "print(y.shape)\n",
        "print(y) # y: 0-based index values representing class labels of the minibatch\n",
        "print(torch.is_tensor(X[0]))"
      ],
      "metadata": {
        "colab": {
          "base_uri": "https://localhost:8080/"
        },
        "id": "SsXRKCIvm6w9",
        "outputId": "4296778f-a5f3-45fe-b8a5-118a4a8c70a3"
      },
      "execution_count": null,
      "outputs": [
        {
          "output_type": "stream",
          "name": "stdout",
          "text": [
            "torch.Size([3, 224, 224])\n",
            "torch.Size([8, 3, 224, 224])\n",
            "torch.Size([3, 224, 224])\n",
            "torch.Size([8])\n",
            "tensor([22, 16, 17,  9,  2, 21, 21, 16])\n",
            "True\n"
          ]
        }
      ]
    },
    {
      "cell_type": "code",
      "source": [
        "_ = plt.imshow(np.asarray(X[1][0]))"
      ],
      "metadata": {
        "colab": {
          "base_uri": "https://localhost:8080/",
          "height": 357
        },
        "id": "dhozgLvs1qEK",
        "outputId": "bfbe7cf2-bb78-4603-c842-60f8bab78ea9"
      },
      "execution_count": null,
      "outputs": [
        {
          "output_type": "display_data",
          "data": {
            "text/plain": [
              "<Figure size 432x288 with 1 Axes>"
            ],
            "image/svg+xml": "<?xml version=\"1.0\" encoding=\"utf-8\" standalone=\"no\"?>\n<!DOCTYPE svg PUBLIC \"-//W3C//DTD SVG 1.1//EN\"\n  \"http://www.w3.org/Graphics/SVG/1.1/DTD/svg11.dtd\">\n<!-- Created with matplotlib (https://matplotlib.org/) -->\n<svg height=\"251.831987pt\" version=\"1.1\" viewBox=\"0 0 257.9275 251.831987\" width=\"257.9275pt\" xmlns=\"http://www.w3.org/2000/svg\" xmlns:xlink=\"http://www.w3.org/1999/xlink\">\n <defs>\n  <style type=\"text/css\">\n*{stroke-linecap:butt;stroke-linejoin:round;}\n  </style>\n </defs>\n <g id=\"figure_1\">\n  <g id=\"patch_1\">\n   <path d=\"M 0 251.831987 \nL 257.9275 251.831987 \nL 257.9275 0 \nL 0 0 \nz\n\" style=\"fill:none;\"/>\n  </g>\n  <g id=\"axes_1\">\n   <g id=\"patch_2\">\n    <path d=\"M 33.2875 227.953862 \nL 250.7275 227.953862 \nL 250.7275 10.513862 \nL 33.2875 10.513862 \nz\n\" style=\"fill:#ffffff;\"/>\n   </g>\n   <g clip-path=\"url(#pf80dc0e834)\">\n    <image height=\"218\" id=\"image3106aec57c\" transform=\"scale(1 -1)translate(0 -218)\" width=\"218\" x=\"33.2875\" xlink:href=\"data:image/png;base64,\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\" y=\"-9.953862\"/>\n   </g>\n   <g id=\"matplotlib.axis_1\">\n    <g id=\"xtick_1\">\n     <g id=\"line2d_1\">\n      <defs>\n       <path d=\"M 0 0 \nL 0 3.5 \n\" id=\"m0cb0a1e269\" style=\"stroke:#000000;stroke-width:0.8;\"/>\n      </defs>\n      <g>\n       <use style=\"stroke:#000000;stroke-width:0.8;\" x=\"33.772857\" xlink:href=\"#m0cb0a1e269\" y=\"227.953862\"/>\n      </g>\n     </g>\n     <g id=\"text_1\">\n      <!-- 0 -->\n      <defs>\n       <path d=\"M 31.78125 66.40625 \nQ 24.171875 66.40625 20.328125 58.90625 \nQ 16.5 51.421875 16.5 36.375 \nQ 16.5 21.390625 20.328125 13.890625 \nQ 24.171875 6.390625 31.78125 6.390625 \nQ 39.453125 6.390625 43.28125 13.890625 \nQ 47.125 21.390625 47.125 36.375 \nQ 47.125 51.421875 43.28125 58.90625 \nQ 39.453125 66.40625 31.78125 66.40625 \nz\nM 31.78125 74.21875 \nQ 44.046875 74.21875 50.515625 64.515625 \nQ 56.984375 54.828125 56.984375 36.375 \nQ 56.984375 17.96875 50.515625 8.265625 \nQ 44.046875 -1.421875 31.78125 -1.421875 \nQ 19.53125 -1.421875 13.0625 8.265625 \nQ 6.59375 17.96875 6.59375 36.375 \nQ 6.59375 54.828125 13.0625 64.515625 \nQ 19.53125 74.21875 31.78125 74.21875 \nz\n\" id=\"DejaVuSans-48\"/>\n      </defs>\n      <g transform=\"translate(30.591607 242.552299)scale(0.1 -0.1)\">\n       <use xlink:href=\"#DejaVuSans-48\"/>\n      </g>\n     </g>\n    </g>\n    <g id=\"xtick_2\">\n     <g id=\"line2d_2\">\n      <g>\n       <use style=\"stroke:#000000;stroke-width:0.8;\" x=\"82.308571\" xlink:href=\"#m0cb0a1e269\" y=\"227.953862\"/>\n      </g>\n     </g>\n     <g id=\"text_2\">\n      <!-- 50 -->\n      <defs>\n       <path d=\"M 10.796875 72.90625 \nL 49.515625 72.90625 \nL 49.515625 64.59375 \nL 19.828125 64.59375 \nL 19.828125 46.734375 \nQ 21.96875 47.46875 24.109375 47.828125 \nQ 26.265625 48.1875 28.421875 48.1875 \nQ 40.625 48.1875 47.75 41.5 \nQ 54.890625 34.8125 54.890625 23.390625 \nQ 54.890625 11.625 47.5625 5.09375 \nQ 40.234375 -1.421875 26.90625 -1.421875 \nQ 22.3125 -1.421875 17.546875 -0.640625 \nQ 12.796875 0.140625 7.71875 1.703125 \nL 7.71875 11.625 \nQ 12.109375 9.234375 16.796875 8.0625 \nQ 21.484375 6.890625 26.703125 6.890625 \nQ 35.15625 6.890625 40.078125 11.328125 \nQ 45.015625 15.765625 45.015625 23.390625 \nQ 45.015625 31 40.078125 35.4375 \nQ 35.15625 39.890625 26.703125 39.890625 \nQ 22.75 39.890625 18.8125 39.015625 \nQ 14.890625 38.140625 10.796875 36.28125 \nz\n\" id=\"DejaVuSans-53\"/>\n      </defs>\n      <g transform=\"translate(75.946071 242.552299)scale(0.1 -0.1)\">\n       <use xlink:href=\"#DejaVuSans-53\"/>\n       <use x=\"63.623047\" xlink:href=\"#DejaVuSans-48\"/>\n      </g>\n     </g>\n    </g>\n    <g id=\"xtick_3\">\n     <g id=\"line2d_3\">\n      <g>\n       <use style=\"stroke:#000000;stroke-width:0.8;\" x=\"130.844286\" xlink:href=\"#m0cb0a1e269\" y=\"227.953862\"/>\n      </g>\n     </g>\n     <g id=\"text_3\">\n      <!-- 100 -->\n      <defs>\n       <path d=\"M 12.40625 8.296875 \nL 28.515625 8.296875 \nL 28.515625 63.921875 \nL 10.984375 60.40625 \nL 10.984375 69.390625 \nL 28.421875 72.90625 \nL 38.28125 72.90625 \nL 38.28125 8.296875 \nL 54.390625 8.296875 \nL 54.390625 0 \nL 12.40625 0 \nz\n\" id=\"DejaVuSans-49\"/>\n      </defs>\n      <g transform=\"translate(121.300536 242.552299)scale(0.1 -0.1)\">\n       <use xlink:href=\"#DejaVuSans-49\"/>\n       <use x=\"63.623047\" xlink:href=\"#DejaVuSans-48\"/>\n       <use x=\"127.246094\" xlink:href=\"#DejaVuSans-48\"/>\n      </g>\n     </g>\n    </g>\n    <g id=\"xtick_4\">\n     <g id=\"line2d_4\">\n      <g>\n       <use style=\"stroke:#000000;stroke-width:0.8;\" x=\"179.38\" xlink:href=\"#m0cb0a1e269\" y=\"227.953862\"/>\n      </g>\n     </g>\n     <g id=\"text_4\">\n      <!-- 150 -->\n      <g transform=\"translate(169.83625 242.552299)scale(0.1 -0.1)\">\n       <use xlink:href=\"#DejaVuSans-49\"/>\n       <use x=\"63.623047\" xlink:href=\"#DejaVuSans-53\"/>\n       <use x=\"127.246094\" xlink:href=\"#DejaVuSans-48\"/>\n      </g>\n     </g>\n    </g>\n    <g id=\"xtick_5\">\n     <g id=\"line2d_5\">\n      <g>\n       <use style=\"stroke:#000000;stroke-width:0.8;\" x=\"227.915714\" xlink:href=\"#m0cb0a1e269\" y=\"227.953862\"/>\n      </g>\n     </g>\n     <g id=\"text_5\">\n      <!-- 200 -->\n      <defs>\n       <path d=\"M 19.1875 8.296875 \nL 53.609375 8.296875 \nL 53.609375 0 \nL 7.328125 0 \nL 7.328125 8.296875 \nQ 12.9375 14.109375 22.625 23.890625 \nQ 32.328125 33.6875 34.8125 36.53125 \nQ 39.546875 41.84375 41.421875 45.53125 \nQ 43.3125 49.21875 43.3125 52.78125 \nQ 43.3125 58.59375 39.234375 62.25 \nQ 35.15625 65.921875 28.609375 65.921875 \nQ 23.96875 65.921875 18.8125 64.3125 \nQ 13.671875 62.703125 7.8125 59.421875 \nL 7.8125 69.390625 \nQ 13.765625 71.78125 18.9375 73 \nQ 24.125 74.21875 28.421875 74.21875 \nQ 39.75 74.21875 46.484375 68.546875 \nQ 53.21875 62.890625 53.21875 53.421875 \nQ 53.21875 48.921875 51.53125 44.890625 \nQ 49.859375 40.875 45.40625 35.40625 \nQ 44.1875 33.984375 37.640625 27.21875 \nQ 31.109375 20.453125 19.1875 8.296875 \nz\n\" id=\"DejaVuSans-50\"/>\n      </defs>\n      <g transform=\"translate(218.371964 242.552299)scale(0.1 -0.1)\">\n       <use xlink:href=\"#DejaVuSans-50\"/>\n       <use x=\"63.623047\" xlink:href=\"#DejaVuSans-48\"/>\n       <use x=\"127.246094\" xlink:href=\"#DejaVuSans-48\"/>\n      </g>\n     </g>\n    </g>\n   </g>\n   <g id=\"matplotlib.axis_2\">\n    <g id=\"ytick_1\">\n     <g id=\"line2d_6\">\n      <defs>\n       <path d=\"M 0 0 \nL -3.5 0 \n\" id=\"mfdcba223aa\" style=\"stroke:#000000;stroke-width:0.8;\"/>\n      </defs>\n      <g>\n       <use style=\"stroke:#000000;stroke-width:0.8;\" x=\"33.2875\" xlink:href=\"#mfdcba223aa\" y=\"10.999219\"/>\n      </g>\n     </g>\n     <g id=\"text_6\">\n      <!-- 0 -->\n      <g transform=\"translate(19.925 14.798437)scale(0.1 -0.1)\">\n       <use xlink:href=\"#DejaVuSans-48\"/>\n      </g>\n     </g>\n    </g>\n    <g id=\"ytick_2\">\n     <g id=\"line2d_7\">\n      <g>\n       <use style=\"stroke:#000000;stroke-width:0.8;\" x=\"33.2875\" xlink:href=\"#mfdcba223aa\" y=\"35.267076\"/>\n      </g>\n     </g>\n     <g id=\"text_7\">\n      <!-- 25 -->\n      <g transform=\"translate(13.5625 39.066295)scale(0.1 -0.1)\">\n       <use xlink:href=\"#DejaVuSans-50\"/>\n       <use x=\"63.623047\" xlink:href=\"#DejaVuSans-53\"/>\n      </g>\n     </g>\n    </g>\n    <g id=\"ytick_3\">\n     <g id=\"line2d_8\">\n      <g>\n       <use style=\"stroke:#000000;stroke-width:0.8;\" x=\"33.2875\" xlink:href=\"#mfdcba223aa\" y=\"59.534933\"/>\n      </g>\n     </g>\n     <g id=\"text_8\">\n      <!-- 50 -->\n      <g transform=\"translate(13.5625 63.334152)scale(0.1 -0.1)\">\n       <use xlink:href=\"#DejaVuSans-53\"/>\n       <use x=\"63.623047\" xlink:href=\"#DejaVuSans-48\"/>\n      </g>\n     </g>\n    </g>\n    <g id=\"ytick_4\">\n     <g id=\"line2d_9\">\n      <g>\n       <use style=\"stroke:#000000;stroke-width:0.8;\" x=\"33.2875\" xlink:href=\"#mfdcba223aa\" y=\"83.80279\"/>\n      </g>\n     </g>\n     <g id=\"text_9\">\n      <!-- 75 -->\n      <defs>\n       <path d=\"M 8.203125 72.90625 \nL 55.078125 72.90625 \nL 55.078125 68.703125 \nL 28.609375 0 \nL 18.3125 0 \nL 43.21875 64.59375 \nL 8.203125 64.59375 \nz\n\" id=\"DejaVuSans-55\"/>\n      </defs>\n      <g transform=\"translate(13.5625 87.602009)scale(0.1 -0.1)\">\n       <use xlink:href=\"#DejaVuSans-55\"/>\n       <use x=\"63.623047\" xlink:href=\"#DejaVuSans-53\"/>\n      </g>\n     </g>\n    </g>\n    <g id=\"ytick_5\">\n     <g id=\"line2d_10\">\n      <g>\n       <use style=\"stroke:#000000;stroke-width:0.8;\" x=\"33.2875\" xlink:href=\"#mfdcba223aa\" y=\"108.070647\"/>\n      </g>\n     </g>\n     <g id=\"text_10\">\n      <!-- 100 -->\n      <g transform=\"translate(7.2 111.869866)scale(0.1 -0.1)\">\n       <use xlink:href=\"#DejaVuSans-49\"/>\n       <use x=\"63.623047\" xlink:href=\"#DejaVuSans-48\"/>\n       <use x=\"127.246094\" xlink:href=\"#DejaVuSans-48\"/>\n      </g>\n     </g>\n    </g>\n    <g id=\"ytick_6\">\n     <g id=\"line2d_11\">\n      <g>\n       <use style=\"stroke:#000000;stroke-width:0.8;\" x=\"33.2875\" xlink:href=\"#mfdcba223aa\" y=\"132.338504\"/>\n      </g>\n     </g>\n     <g id=\"text_11\">\n      <!-- 125 -->\n      <g transform=\"translate(7.2 136.137723)scale(0.1 -0.1)\">\n       <use xlink:href=\"#DejaVuSans-49\"/>\n       <use x=\"63.623047\" xlink:href=\"#DejaVuSans-50\"/>\n       <use x=\"127.246094\" xlink:href=\"#DejaVuSans-53\"/>\n      </g>\n     </g>\n    </g>\n    <g id=\"ytick_7\">\n     <g id=\"line2d_12\">\n      <g>\n       <use style=\"stroke:#000000;stroke-width:0.8;\" x=\"33.2875\" xlink:href=\"#mfdcba223aa\" y=\"156.606362\"/>\n      </g>\n     </g>\n     <g id=\"text_12\">\n      <!-- 150 -->\n      <g transform=\"translate(7.2 160.40558)scale(0.1 -0.1)\">\n       <use xlink:href=\"#DejaVuSans-49\"/>\n       <use x=\"63.623047\" xlink:href=\"#DejaVuSans-53\"/>\n       <use x=\"127.246094\" xlink:href=\"#DejaVuSans-48\"/>\n      </g>\n     </g>\n    </g>\n    <g id=\"ytick_8\">\n     <g id=\"line2d_13\">\n      <g>\n       <use style=\"stroke:#000000;stroke-width:0.8;\" x=\"33.2875\" xlink:href=\"#mfdcba223aa\" y=\"180.874219\"/>\n      </g>\n     </g>\n     <g id=\"text_13\">\n      <!-- 175 -->\n      <g transform=\"translate(7.2 184.673437)scale(0.1 -0.1)\">\n       <use xlink:href=\"#DejaVuSans-49\"/>\n       <use x=\"63.623047\" xlink:href=\"#DejaVuSans-55\"/>\n       <use x=\"127.246094\" xlink:href=\"#DejaVuSans-53\"/>\n      </g>\n     </g>\n    </g>\n    <g id=\"ytick_9\">\n     <g id=\"line2d_14\">\n      <g>\n       <use style=\"stroke:#000000;stroke-width:0.8;\" x=\"33.2875\" xlink:href=\"#mfdcba223aa\" y=\"205.142076\"/>\n      </g>\n     </g>\n     <g id=\"text_14\">\n      <!-- 200 -->\n      <g transform=\"translate(7.2 208.941295)scale(0.1 -0.1)\">\n       <use xlink:href=\"#DejaVuSans-50\"/>\n       <use x=\"63.623047\" xlink:href=\"#DejaVuSans-48\"/>\n       <use x=\"127.246094\" xlink:href=\"#DejaVuSans-48\"/>\n      </g>\n     </g>\n    </g>\n   </g>\n   <g id=\"patch_3\">\n    <path d=\"M 33.2875 227.953862 \nL 33.2875 10.513862 \n\" style=\"fill:none;stroke:#000000;stroke-linecap:square;stroke-linejoin:miter;stroke-width:0.8;\"/>\n   </g>\n   <g id=\"patch_4\">\n    <path d=\"M 250.7275 227.953862 \nL 250.7275 10.513862 \n\" style=\"fill:none;stroke:#000000;stroke-linecap:square;stroke-linejoin:miter;stroke-width:0.8;\"/>\n   </g>\n   <g id=\"patch_5\">\n    <path d=\"M 33.2875 227.953862 \nL 250.7275 227.953862 \n\" style=\"fill:none;stroke:#000000;stroke-linecap:square;stroke-linejoin:miter;stroke-width:0.8;\"/>\n   </g>\n   <g id=\"patch_6\">\n    <path d=\"M 33.2875 10.513862 \nL 250.7275 10.513862 \n\" style=\"fill:none;stroke:#000000;stroke-linecap:square;stroke-linejoin:miter;stroke-width:0.8;\"/>\n   </g>\n  </g>\n </g>\n <defs>\n  <clipPath id=\"pf80dc0e834\">\n   <rect height=\"217.44\" width=\"217.44\" x=\"33.2875\" y=\"10.513862\"/>\n  </clipPath>\n </defs>\n</svg>\n"
          },
          "metadata": {
            "needs_background": "light"
          }
        }
      ]
    },
    {
      "cell_type": "code",
      "source": [
        "_ = d2l.show_images(X.reshape(8*3, 224, 224), 2, 2, titles = [str(int(lab)) for lab in y])"
      ],
      "metadata": {
        "colab": {
          "base_uri": "https://localhost:8080/",
          "height": 283
        },
        "id": "JAaT7Jcn1uoC",
        "outputId": "2de954ac-ab11-4e8f-a51a-00d6bf78b732"
      },
      "execution_count": null,
      "outputs": [
        {
          "output_type": "display_data",
          "data": {
            "text/plain": [
              "<Figure size 216x216 with 4 Axes>"
            ],
            "image/svg+xml": "<?xml version=\"1.0\" encoding=\"utf-8\" standalone=\"no\"?>\n<!DOCTYPE svg PUBLIC \"-//W3C//DTD SVG 1.1//EN\"\n  \"http://www.w3.org/Graphics/SVG/1.1/DTD/svg11.dtd\">\n<!-- Created with matplotlib (https://matplotlib.org/) -->\n<svg height=\"196.098125pt\" version=\"1.1\" viewBox=\"0 0 183.336364 196.098125\" width=\"183.336364pt\" xmlns=\"http://www.w3.org/2000/svg\" xmlns:xlink=\"http://www.w3.org/1999/xlink\">\n <defs>\n  <style type=\"text/css\">\n*{stroke-linecap:butt;stroke-linejoin:round;}\n  </style>\n </defs>\n <g id=\"figure_1\">\n  <g id=\"patch_1\">\n   <path d=\"M 0 196.098125 \nL 183.336364 196.098125 \nL 183.336364 0 \nL 0 0 \nz\n\" style=\"fill:none;\"/>\n  </g>\n  <g id=\"axes_1\">\n   <g id=\"patch_2\">\n    <path d=\"M 10.7 96.445398 \nL 84.827273 96.445398 \nL 84.827273 22.318125 \nL 10.7 22.318125 \nz\n\" style=\"fill:#ffffff;\"/>\n   </g>\n   <g clip-path=\"url(#pef7087b9d8)\">\n    <image height=\"75\" id=\"imagef644c28d06\" transform=\"scale(1 -1)translate(0 -75)\" width=\"75\" x=\"10.7\" xlink:href=\"data:image/png;base64,\niVBORw0KGgoAAAANSUhEUgAAAEsAAABLCAYAAAA4TnrqAAAABHNCSVQICAgIfAhkiAAABHpJREFUeJzt3FtsFFUcx/HvmZm9dbe7a1uo1VqxLRGhijUmKkKiXLwkBhohSrxweeDBaDAQjY/USNQEGx98IhWiEoEHTYgEjST4AiFq5IHEloJKjBWBtNKy7G73OuNDsel2d9ueUrJL+/+87cyc5J9f5kzOmZ1z1Eq1zuG6wQ2P8fXOXdRbAWaiLyI1HHhxFfbpM1Nqb4z+4YrbnEzcSdaxp6W4mSYnrODRM7Tve5mokyxVPWUtJ6xsJIK3z8F2nGLXz2rGxJeI/+WF5Y46nExWlaKWspcXVtWRs2z7ajNRO1GKem6qoJkg3lCJcrmn1D4vrOzAAJXn4ZdkxQ0XV25W+vqpfecPzPq6KbUv+MyqPd7Plp82kHTSN1RcuQkYXp6rOU20pRbVugircR4oNen2VqGDl5fV0PnIbjzKNV11lo01gV78HQeJ2W46elYx96PFmLE0ynEwLl8hc/FS0bYFw0oFFa2eGOC7WTWXTMjwsTYQAWD5Q52c2HMXKcck4bj5+GAbDe/1gZ0t2LZgWLNFvRVgfeUAAGkny4eNCay6WjIX/il4vYyzrnMpk/3LOuldP6/oc0zCGqXVYxNtzGLOnVPwvIQ1ike52PtMJ5fbmgqel7DGaPXESAWlG94wCWsME0WixsGszp8f54VlVlcNX8zkR7YzScDw8snavfy9aQFmOJRzzmxUC9tHHxh8fjEfvP4ZLVOba84I91hpbn/gHEeSKwkmAqjoEE46nXtnmeEQV5sNlnoHSlVnWTCVQZt/kI43d9P06XkyrfOBMd0wsmIBO146QEB5SlJkOTGVwQpfls01x7my0Id6uCV3upP2Gyz19WKqmfnvzlS0uBU73v6cvkxwds8NJ8OjXKz2x4G4DB10SFgaRsIyg0FidQq3xpvD2WYkrKEl9/LaxsNUGzPvhd90GQkr7Td4ouIcppKeWYwko0HC0mAAGH4/0TtMvKrwi3oxzADItM5n3ZYfaLDk4T4eCyBbYfFkoBuXMktdT9lJOmm+j4e4lAnLdGciv6Yc3t21kTmnIliG18u1ehdelQFm8UusMbKOzbEhD4cGHqWqewjnVBdWZPWDPL31BC1uGbmP9q89xLY9b9Dw7QDW779hA9b2nft5tqIfj5K7arSU4xC44OR8rGsN/+8vQU2GDEo1SFhFuJUiVqcwg8GRYxJWEdWGj62bDtG3bhGG3w9IWEWZymBzsJcXth9lcPX9GF6vDErH41ImW2/r4dJbIbp67pM7ayIe5WJ5qBvba0lYOiSsSfCrFFebK1DZi82yUGcCcTvFd/EaCUuHdEMNEpYGCUuDhKVBwtIgYWmQsDRIWBokLA0SlgYJS4OEpUHC0iBhaZCwNEhYGoxvYhXE7VSp67glGO+3b+DnpLfUddwSrHD3Nfb1LeGvcA8A89z9PO6x5RPvAtRTvlcc1XQ3jmv4E8k/14T5cUsHIVk8kMeyEwnoOgsML85UdrjEJZWvvMWZ7a9+KYszi5AHk4bc3SSP9chukuPI3U1y8KrsJjkO6YYa/gPEfCkqp/tiNgAAAABJRU5ErkJggg==\" y=\"-21.445398\"/>\n   </g>\n   <g id=\"patch_3\">\n    <path d=\"M 10.7 96.445398 \nL 10.7 22.318125 \n\" style=\"fill:none;stroke:#000000;stroke-linecap:square;stroke-linejoin:miter;stroke-width:0.8;\"/>\n   </g>\n   <g id=\"patch_4\">\n    <path d=\"M 84.827273 96.445398 \nL 84.827273 22.318125 \n\" style=\"fill:none;stroke:#000000;stroke-linecap:square;stroke-linejoin:miter;stroke-width:0.8;\"/>\n   </g>\n   <g id=\"patch_5\">\n    <path d=\"M 10.7 96.445398 \nL 84.827273 96.445398 \n\" style=\"fill:none;stroke:#000000;stroke-linecap:square;stroke-linejoin:miter;stroke-width:0.8;\"/>\n   </g>\n   <g id=\"patch_6\">\n    <path d=\"M 10.7 22.318125 \nL 84.827273 22.318125 \n\" style=\"fill:none;stroke:#000000;stroke-linecap:square;stroke-linejoin:miter;stroke-width:0.8;\"/>\n   </g>\n   <g id=\"text_1\">\n    <!-- 22 -->\n    <defs>\n     <path d=\"M 19.1875 8.296875 \nL 53.609375 8.296875 \nL 53.609375 0 \nL 7.328125 0 \nL 7.328125 8.296875 \nQ 12.9375 14.109375 22.625 23.890625 \nQ 32.328125 33.6875 34.8125 36.53125 \nQ 39.546875 41.84375 41.421875 45.53125 \nQ 43.3125 49.21875 43.3125 52.78125 \nQ 43.3125 58.59375 39.234375 62.25 \nQ 35.15625 65.921875 28.609375 65.921875 \nQ 23.96875 65.921875 18.8125 64.3125 \nQ 13.671875 62.703125 7.8125 59.421875 \nL 7.8125 69.390625 \nQ 13.765625 71.78125 18.9375 73 \nQ 24.125 74.21875 28.421875 74.21875 \nQ 39.75 74.21875 46.484375 68.546875 \nQ 53.21875 62.890625 53.21875 53.421875 \nQ 53.21875 48.921875 51.53125 44.890625 \nQ 49.859375 40.875 45.40625 35.40625 \nQ 44.1875 33.984375 37.640625 27.21875 \nQ 31.109375 20.453125 19.1875 8.296875 \nz\n\" id=\"DejaVuSans-50\"/>\n    </defs>\n    <g transform=\"translate(40.128636 16.318125)scale(0.12 -0.12)\">\n     <use xlink:href=\"#DejaVuSans-50\"/>\n     <use x=\"63.623047\" xlink:href=\"#DejaVuSans-50\"/>\n    </g>\n   </g>\n  </g>\n  <g id=\"axes_2\">\n   <g id=\"patch_7\">\n    <path d=\"M 102.009091 96.445398 \nL 176.136364 96.445398 \nL 176.136364 22.318125 \nL 102.009091 22.318125 \nz\n\" style=\"fill:#ffffff;\"/>\n   </g>\n   <g clip-path=\"url(#p5d3477c421)\">\n    <image height=\"75\" id=\"imagef4a5822dd8\" transform=\"scale(1 -1)translate(0 -75)\" width=\"75\" x=\"102.009091\" xlink:href=\"data:image/png;base64,\niVBORw0KGgoAAAANSUhEUgAAAEsAAABLCAYAAAA4TnrqAAAABHNCSVQICAgIfAhkiAAABHpJREFUeJzt3FtsFFUcx/HvmZm9dbe7a1uo1VqxLRGhijUmKkKiXLwkBhohSrxweeDBaDAQjY/USNQEGx98IhWiEoEHTYgEjST4AiFq5IHEloJKjBWBtNKy7G73OuNDsel2d9ueUrJL+/+87cyc5J9f5kzOmZ1z1Eq1zuG6wQ2P8fXOXdRbAWaiLyI1HHhxFfbpM1Nqb4z+4YrbnEzcSdaxp6W4mSYnrODRM7Tve5mokyxVPWUtJ6xsJIK3z8F2nGLXz2rGxJeI/+WF5Y46nExWlaKWspcXVtWRs2z7ajNRO1GKem6qoJkg3lCJcrmn1D4vrOzAAJXn4ZdkxQ0XV25W+vqpfecPzPq6KbUv+MyqPd7Plp82kHTSN1RcuQkYXp6rOU20pRbVugircR4oNen2VqGDl5fV0PnIbjzKNV11lo01gV78HQeJ2W46elYx96PFmLE0ynEwLl8hc/FS0bYFw0oFFa2eGOC7WTWXTMjwsTYQAWD5Q52c2HMXKcck4bj5+GAbDe/1gZ0t2LZgWLNFvRVgfeUAAGkny4eNCay6WjIX/il4vYyzrnMpk/3LOuldP6/oc0zCGqXVYxNtzGLOnVPwvIQ1ike52PtMJ5fbmgqel7DGaPXESAWlG94wCWsME0WixsGszp8f54VlVlcNX8zkR7YzScDw8snavfy9aQFmOJRzzmxUC9tHHxh8fjEfvP4ZLVOba84I91hpbn/gHEeSKwkmAqjoEE46nXtnmeEQV5sNlnoHSlVnWTCVQZt/kI43d9P06XkyrfOBMd0wsmIBO146QEB5SlJkOTGVwQpfls01x7my0Id6uCV3upP2Gyz19WKqmfnvzlS0uBU73v6cvkxwds8NJ8OjXKz2x4G4DB10SFgaRsIyg0FidQq3xpvD2WYkrKEl9/LaxsNUGzPvhd90GQkr7Td4ouIcppKeWYwko0HC0mAAGH4/0TtMvKrwi3oxzADItM5n3ZYfaLDk4T4eCyBbYfFkoBuXMktdT9lJOmm+j4e4lAnLdGciv6Yc3t21kTmnIliG18u1ehdelQFm8UusMbKOzbEhD4cGHqWqewjnVBdWZPWDPL31BC1uGbmP9q89xLY9b9Dw7QDW779hA9b2nft5tqIfj5K7arSU4xC44OR8rGsN/+8vQU2GDEo1SFhFuJUiVqcwg8GRYxJWEdWGj62bDtG3bhGG3w9IWEWZymBzsJcXth9lcPX9GF6vDErH41ImW2/r4dJbIbp67pM7ayIe5WJ5qBvba0lYOiSsSfCrFFebK1DZi82yUGcCcTvFd/EaCUuHdEMNEpYGCUuDhKVBwtIgYWmQsDRIWBokLA0SlgYJS4OEpUHC0iBhaZCwNEhYGoxvYhXE7VSp67glGO+3b+DnpLfUddwSrHD3Nfb1LeGvcA8A89z9PO6x5RPvAtRTvlcc1XQ3jmv4E8k/14T5cUsHIVk8kMeyEwnoOgsML85UdrjEJZWvvMWZ7a9+KYszi5AHk4bc3SSP9chukuPI3U1y8KrsJjkO6YYa/gPEfCkqp/tiNgAAAABJRU5ErkJggg==\" y=\"-21.445398\"/>\n   </g>\n   <g id=\"patch_8\">\n    <path d=\"M 102.009091 96.445398 \nL 102.009091 22.318125 \n\" style=\"fill:none;stroke:#000000;stroke-linecap:square;stroke-linejoin:miter;stroke-width:0.8;\"/>\n   </g>\n   <g id=\"patch_9\">\n    <path d=\"M 176.136364 96.445398 \nL 176.136364 22.318125 \n\" style=\"fill:none;stroke:#000000;stroke-linecap:square;stroke-linejoin:miter;stroke-width:0.8;\"/>\n   </g>\n   <g id=\"patch_10\">\n    <path d=\"M 102.009091 96.445398 \nL 176.136364 96.445398 \n\" style=\"fill:none;stroke:#000000;stroke-linecap:square;stroke-linejoin:miter;stroke-width:0.8;\"/>\n   </g>\n   <g id=\"patch_11\">\n    <path d=\"M 102.009091 22.318125 \nL 176.136364 22.318125 \n\" style=\"fill:none;stroke:#000000;stroke-linecap:square;stroke-linejoin:miter;stroke-width:0.8;\"/>\n   </g>\n   <g id=\"text_2\">\n    <!-- 16 -->\n    <defs>\n     <path d=\"M 12.40625 8.296875 \nL 28.515625 8.296875 \nL 28.515625 63.921875 \nL 10.984375 60.40625 \nL 10.984375 69.390625 \nL 28.421875 72.90625 \nL 38.28125 72.90625 \nL 38.28125 8.296875 \nL 54.390625 8.296875 \nL 54.390625 0 \nL 12.40625 0 \nz\n\" id=\"DejaVuSans-49\"/>\n     <path d=\"M 33.015625 40.375 \nQ 26.375 40.375 22.484375 35.828125 \nQ 18.609375 31.296875 18.609375 23.390625 \nQ 18.609375 15.53125 22.484375 10.953125 \nQ 26.375 6.390625 33.015625 6.390625 \nQ 39.65625 6.390625 43.53125 10.953125 \nQ 47.40625 15.53125 47.40625 23.390625 \nQ 47.40625 31.296875 43.53125 35.828125 \nQ 39.65625 40.375 33.015625 40.375 \nz\nM 52.59375 71.296875 \nL 52.59375 62.3125 \nQ 48.875 64.0625 45.09375 64.984375 \nQ 41.3125 65.921875 37.59375 65.921875 \nQ 27.828125 65.921875 22.671875 59.328125 \nQ 17.53125 52.734375 16.796875 39.40625 \nQ 19.671875 43.65625 24.015625 45.921875 \nQ 28.375 48.1875 33.59375 48.1875 \nQ 44.578125 48.1875 50.953125 41.515625 \nQ 57.328125 34.859375 57.328125 23.390625 \nQ 57.328125 12.15625 50.6875 5.359375 \nQ 44.046875 -1.421875 33.015625 -1.421875 \nQ 20.359375 -1.421875 13.671875 8.265625 \nQ 6.984375 17.96875 6.984375 36.375 \nQ 6.984375 53.65625 15.1875 63.9375 \nQ 23.390625 74.21875 37.203125 74.21875 \nQ 40.921875 74.21875 44.703125 73.484375 \nQ 48.484375 72.75 52.59375 71.296875 \nz\n\" id=\"DejaVuSans-54\"/>\n    </defs>\n    <g transform=\"translate(131.437727 16.318125)scale(0.12 -0.12)\">\n     <use xlink:href=\"#DejaVuSans-49\"/>\n     <use x=\"63.623047\" xlink:href=\"#DejaVuSans-54\"/>\n    </g>\n   </g>\n  </g>\n  <g id=\"axes_3\">\n   <g id=\"patch_12\">\n    <path d=\"M 10.7 185.398125 \nL 84.827273 185.398125 \nL 84.827273 111.270852 \nL 10.7 111.270852 \nz\n\" style=\"fill:#ffffff;\"/>\n   </g>\n   <g clip-path=\"url(#pef51638531)\">\n    <image height=\"75\" id=\"image14540859f7\" transform=\"scale(1 -1)translate(0 -75)\" width=\"75\" x=\"10.7\" xlink:href=\"data:image/png;base64,\niVBORw0KGgoAAAANSUhEUgAAAEsAAABLCAYAAAA4TnrqAAAABHNCSVQICAgIfAhkiAAABHpJREFUeJzt3FtsFFUcx/HvmZm9dbe7a1uo1VqxLRGhijUmKkKiXLwkBhohSrxweeDBaDAQjY/USNQEGx98IhWiEoEHTYgEjST4AiFq5IHEloJKjBWBtNKy7G73OuNDsel2d9ueUrJL+/+87cyc5J9f5kzOmZ1z1Eq1zuG6wQ2P8fXOXdRbAWaiLyI1HHhxFfbpM1Nqb4z+4YrbnEzcSdaxp6W4mSYnrODRM7Tve5mokyxVPWUtJ6xsJIK3z8F2nGLXz2rGxJeI/+WF5Y46nExWlaKWspcXVtWRs2z7ajNRO1GKem6qoJkg3lCJcrmn1D4vrOzAAJXn4ZdkxQ0XV25W+vqpfecPzPq6KbUv+MyqPd7Plp82kHTSN1RcuQkYXp6rOU20pRbVugircR4oNen2VqGDl5fV0PnIbjzKNV11lo01gV78HQeJ2W46elYx96PFmLE0ynEwLl8hc/FS0bYFw0oFFa2eGOC7WTWXTMjwsTYQAWD5Q52c2HMXKcck4bj5+GAbDe/1gZ0t2LZgWLNFvRVgfeUAAGkny4eNCay6WjIX/il4vYyzrnMpk/3LOuldP6/oc0zCGqXVYxNtzGLOnVPwvIQ1ike52PtMJ5fbmgqel7DGaPXESAWlG94wCWsME0WixsGszp8f54VlVlcNX8zkR7YzScDw8snavfy9aQFmOJRzzmxUC9tHHxh8fjEfvP4ZLVOba84I91hpbn/gHEeSKwkmAqjoEE46nXtnmeEQV5sNlnoHSlVnWTCVQZt/kI43d9P06XkyrfOBMd0wsmIBO146QEB5SlJkOTGVwQpfls01x7my0Id6uCV3upP2Gyz19WKqmfnvzlS0uBU73v6cvkxwds8NJ8OjXKz2x4G4DB10SFgaRsIyg0FidQq3xpvD2WYkrKEl9/LaxsNUGzPvhd90GQkr7Td4ouIcppKeWYwko0HC0mAAGH4/0TtMvKrwi3oxzADItM5n3ZYfaLDk4T4eCyBbYfFkoBuXMktdT9lJOmm+j4e4lAnLdGciv6Yc3t21kTmnIliG18u1ehdelQFm8UusMbKOzbEhD4cGHqWqewjnVBdWZPWDPL31BC1uGbmP9q89xLY9b9Dw7QDW779hA9b2nft5tqIfj5K7arSU4xC44OR8rGsN/+8vQU2GDEo1SFhFuJUiVqcwg8GRYxJWEdWGj62bDtG3bhGG3w9IWEWZymBzsJcXth9lcPX9GF6vDErH41ImW2/r4dJbIbp67pM7ayIe5WJ5qBvba0lYOiSsSfCrFFebK1DZi82yUGcCcTvFd/EaCUuHdEMNEpYGCUuDhKVBwtIgYWmQsDRIWBokLA0SlgYJS4OEpUHC0iBhaZCwNEhYGoxvYhXE7VSp67glGO+3b+DnpLfUddwSrHD3Nfb1LeGvcA8A89z9PO6x5RPvAtRTvlcc1XQ3jmv4E8k/14T5cUsHIVk8kMeyEwnoOgsML85UdrjEJZWvvMWZ7a9+KYszi5AHk4bc3SSP9chukuPI3U1y8KrsJjkO6YYa/gPEfCkqp/tiNgAAAABJRU5ErkJggg==\" y=\"-110.398125\"/>\n   </g>\n   <g id=\"patch_13\">\n    <path d=\"M 10.7 185.398125 \nL 10.7 111.270852 \n\" style=\"fill:none;stroke:#000000;stroke-linecap:square;stroke-linejoin:miter;stroke-width:0.8;\"/>\n   </g>\n   <g id=\"patch_14\">\n    <path d=\"M 84.827273 185.398125 \nL 84.827273 111.270852 \n\" style=\"fill:none;stroke:#000000;stroke-linecap:square;stroke-linejoin:miter;stroke-width:0.8;\"/>\n   </g>\n   <g id=\"patch_15\">\n    <path d=\"M 10.7 185.398125 \nL 84.827273 185.398125 \n\" style=\"fill:none;stroke:#000000;stroke-linecap:square;stroke-linejoin:miter;stroke-width:0.8;\"/>\n   </g>\n   <g id=\"patch_16\">\n    <path d=\"M 10.7 111.270852 \nL 84.827273 111.270852 \n\" style=\"fill:none;stroke:#000000;stroke-linecap:square;stroke-linejoin:miter;stroke-width:0.8;\"/>\n   </g>\n   <g id=\"text_3\">\n    <!-- 17 -->\n    <defs>\n     <path d=\"M 8.203125 72.90625 \nL 55.078125 72.90625 \nL 55.078125 68.703125 \nL 28.609375 0 \nL 18.3125 0 \nL 43.21875 64.59375 \nL 8.203125 64.59375 \nz\n\" id=\"DejaVuSans-55\"/>\n    </defs>\n    <g transform=\"translate(40.128636 105.270852)scale(0.12 -0.12)\">\n     <use xlink:href=\"#DejaVuSans-49\"/>\n     <use x=\"63.623047\" xlink:href=\"#DejaVuSans-55\"/>\n    </g>\n   </g>\n  </g>\n  <g id=\"axes_4\">\n   <g id=\"patch_17\">\n    <path d=\"M 102.009091 185.398125 \nL 176.136364 185.398125 \nL 176.136364 111.270852 \nL 102.009091 111.270852 \nz\n\" style=\"fill:#ffffff;\"/>\n   </g>\n   <g clip-path=\"url(#pe68ebfb331)\">\n    <image height=\"75\" id=\"image18d6aec36b\" transform=\"scale(1 -1)translate(0 -75)\" width=\"75\" x=\"102.009091\" xlink:href=\"data:image/png;base64,\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\" y=\"-110.398125\"/>\n   </g>\n   <g id=\"patch_18\">\n    <path d=\"M 102.009091 185.398125 \nL 102.009091 111.270852 \n\" style=\"fill:none;stroke:#000000;stroke-linecap:square;stroke-linejoin:miter;stroke-width:0.8;\"/>\n   </g>\n   <g id=\"patch_19\">\n    <path d=\"M 176.136364 185.398125 \nL 176.136364 111.270852 \n\" style=\"fill:none;stroke:#000000;stroke-linecap:square;stroke-linejoin:miter;stroke-width:0.8;\"/>\n   </g>\n   <g id=\"patch_20\">\n    <path d=\"M 102.009091 185.398125 \nL 176.136364 185.398125 \n\" style=\"fill:none;stroke:#000000;stroke-linecap:square;stroke-linejoin:miter;stroke-width:0.8;\"/>\n   </g>\n   <g id=\"patch_21\">\n    <path d=\"M 102.009091 111.270852 \nL 176.136364 111.270852 \n\" style=\"fill:none;stroke:#000000;stroke-linecap:square;stroke-linejoin:miter;stroke-width:0.8;\"/>\n   </g>\n   <g id=\"text_4\">\n    <!-- 9 -->\n    <defs>\n     <path d=\"M 10.984375 1.515625 \nL 10.984375 10.5 \nQ 14.703125 8.734375 18.5 7.8125 \nQ 22.3125 6.890625 25.984375 6.890625 \nQ 35.75 6.890625 40.890625 13.453125 \nQ 46.046875 20.015625 46.78125 33.40625 \nQ 43.953125 29.203125 39.59375 26.953125 \nQ 35.25 24.703125 29.984375 24.703125 \nQ 19.046875 24.703125 12.671875 31.3125 \nQ 6.296875 37.9375 6.296875 49.421875 \nQ 6.296875 60.640625 12.9375 67.421875 \nQ 19.578125 74.21875 30.609375 74.21875 \nQ 43.265625 74.21875 49.921875 64.515625 \nQ 56.59375 54.828125 56.59375 36.375 \nQ 56.59375 19.140625 48.40625 8.859375 \nQ 40.234375 -1.421875 26.421875 -1.421875 \nQ 22.703125 -1.421875 18.890625 -0.6875 \nQ 15.09375 0.046875 10.984375 1.515625 \nz\nM 30.609375 32.421875 \nQ 37.25 32.421875 41.125 36.953125 \nQ 45.015625 41.5 45.015625 49.421875 \nQ 45.015625 57.28125 41.125 61.84375 \nQ 37.25 66.40625 30.609375 66.40625 \nQ 23.96875 66.40625 20.09375 61.84375 \nQ 16.21875 57.28125 16.21875 49.421875 \nQ 16.21875 41.5 20.09375 36.953125 \nQ 23.96875 32.421875 30.609375 32.421875 \nz\n\" id=\"DejaVuSans-57\"/>\n    </defs>\n    <g transform=\"translate(135.255227 105.270852)scale(0.12 -0.12)\">\n     <use xlink:href=\"#DejaVuSans-57\"/>\n    </g>\n   </g>\n  </g>\n </g>\n <defs>\n  <clipPath id=\"pef7087b9d8\">\n   <rect height=\"74.127273\" width=\"74.127273\" x=\"10.7\" y=\"22.318125\"/>\n  </clipPath>\n  <clipPath id=\"p5d3477c421\">\n   <rect height=\"74.127273\" width=\"74.127273\" x=\"102.009091\" y=\"22.318125\"/>\n  </clipPath>\n  <clipPath id=\"pef51638531\">\n   <rect height=\"74.127273\" width=\"74.127273\" x=\"10.7\" y=\"111.270852\"/>\n  </clipPath>\n  <clipPath id=\"pe68ebfb331\">\n   <rect height=\"74.127273\" width=\"74.127273\" x=\"102.009091\" y=\"111.270852\"/>\n  </clipPath>\n </defs>\n</svg>\n"
          },
          "metadata": {
            "needs_background": "light"
          }
        }
      ]
    },
    {
      "cell_type": "markdown",
      "source": [
        "# Model Implementation: AlexNet"
      ],
      "metadata": {
        "id": "sTO_FEbc1H7W"
      }
    },
    {
      "cell_type": "markdown",
      "source": [
        "- **Why AlexNet?**\n",
        "\n",
        "The decision of using this method came out from the dataset's size that I've decided to use for developing this project:\n",
        "\n",
        "My dataset is pretty large, and AlexNet uses more convolutional layers comparing it to other models like LeNet, and a larger parameter space to fit the large-scale of a dataset in terms of images.\n",
        "\n",
        "In fact, by implementing the AlexNet Model, the results improved a lot:"
      ],
      "metadata": {
        "id": "O4C5ZX_vsl1N"
      }
    },
    {
      "cell_type": "markdown",
      "source": [
        "**AlexNet Model Implementation**"
      ],
      "metadata": {
        "id": "KMjzCcRfqdQv"
      }
    },
    {
      "cell_type": "code",
      "source": [
        "from d2l import torch as d2l\n",
        "import torch\n",
        "from torch import nn"
      ],
      "metadata": {
        "id": "0jFWZjd1qr6j"
      },
      "execution_count": null,
      "outputs": []
    },
    {
      "cell_type": "code",
      "source": [
        "# Device configuration\n",
        "device = torch.device('cuda' if torch.cuda.is_available() else 'cpu')"
      ],
      "metadata": {
        "id": "ExBsV26WrZ-U"
      },
      "execution_count": null,
      "outputs": []
    },
    {
      "cell_type": "markdown",
      "source": [
        "**Notes**:\n",
        "- Use of ReLu\n",
        "- Use of MaxPooling\n",
        "- Convolution window size: (11x11)"
      ],
      "metadata": {
        "id": "AChf9khD2s5a"
      }
    },
    {
      "cell_type": "code",
      "source": [
        "net = nn.Sequential(\n",
        "    # Use of a 11 x 11 window to capture objects.\n",
        "    # Use of a stride of 4 to greatly reduce the height and width of the\n",
        "    # output. Here, the number of output channels is much larger than that in\n",
        "    # LeNet\n",
        "    nn.Conv2d(3, 96, kernel_size=11, stride=4, padding=1), nn.ReLU(),\n",
        "    nn.MaxPool2d(kernel_size=3, stride=2),\n",
        "    # Convolution window smaller, set padding to 2 for consistent\n",
        "    # height and width across the input and output\n",
        "    # Increase of the number of output channels\n",
        "    nn.Conv2d(96, 256, kernel_size=5, padding=2), nn.ReLU(),\n",
        "    nn.MaxPool2d(kernel_size=3, stride=2),\n",
        "    # Use of three successive convolutional layers and a smaller convolution\n",
        "    # window. Except for the final convolutional layer, the number of output\n",
        "    # channels is further increased. Pooling layers are not used to reduce the\n",
        "    # height and width of input after the first two convolutional layers\n",
        "    nn.Conv2d(256, 384, kernel_size=3, padding=1), nn.ReLU(),\n",
        "    nn.Conv2d(384, 384, kernel_size=3, padding=1), nn.ReLU(),\n",
        "    nn.Conv2d(384, 256, kernel_size=3, padding=1), nn.ReLU(),\n",
        "    nn.MaxPool2d(kernel_size=3, stride=2),\n",
        "    nn.Flatten(),\n",
        "    # Below, a large number of outputs of the fully-connected layer.\n",
        "    # Use the dropout layer to mitigate overfitting:\n",
        "    nn.Linear(6400, 4096), nn.ReLU(),\n",
        "    nn.Dropout(p=0.5),\n",
        "    nn.Linear(4096, 4096), nn.ReLU(),\n",
        "    nn.Dropout(p=0.5),\n",
        "    # Output layer: the number of classes is 24\n",
        "    nn.Linear(4096, 24))"
      ],
      "metadata": {
        "id": "YNdsGN0XE1_b"
      },
      "execution_count": null,
      "outputs": []
    },
    {
      "cell_type": "markdown",
      "source": [
        "# Training:"
      ],
      "metadata": {
        "id": "UjIgXzaF3-2w"
      }
    },
    {
      "cell_type": "markdown",
      "source": [
        "Defining the functions required for **training** and **accuracy evaluation** phases."
      ],
      "metadata": {
        "id": "sMPs1Pxs4J0H"
      }
    },
    {
      "cell_type": "markdown",
      "source": [
        "Notes:\n",
        "\n",
        "**slow training** due to:\n",
        "- a deeper and wider network\n",
        "- a higher image resolution,\n",
        "- the more costly convolutions.\n",
        "\n",
        "Despite this cons of slowness, an improvement of the model's performances on this dataset has been reach thank to the AlexNet method implementation."
      ],
      "metadata": {
        "id": "QqX2qdaX40Q9"
      }
    },
    {
      "cell_type": "code",
      "source": [
        "def evaluate_accuracy_gpu(net, data_iter, device=None):\n",
        "    \"\"\"Compute the accuracy for a model on a dataset using a GPU.\"\"\"\n",
        "    if isinstance(net, torch.nn.Module):\n",
        "        net.eval()  # Setting the model to evaluation mode\n",
        "        if not device:\n",
        "            device = next(iter(net.parameters())).device\n",
        "    # Number of correct predictions, number of predictions\n",
        "    metric = d2l.Accumulator(2)\n",
        "    for X, y in data_iter:\n",
        "        if isinstance(X, list):\n",
        "            # Required if doing the fine-tuning of BERT (recurrent network)\n",
        "            X = [x.to(device) for x in X]\n",
        "        else:\n",
        "            X = X.to(device)\n",
        "        y = y.to(device)\n",
        "        metric.add(d2l.accuracy(net(X), y), y.numel())\n",
        "    return metric[0] / metric[1]\n",
        "\n",
        "def train(net, train_set, test_set, num_epochs, lr,\n",
        "              device=d2l.try_gpu()):\n",
        "    \"\"\"Train a model with a GPU\"\"\"\n",
        "    def init_weights(m):\n",
        "        if type(m) == nn.Linear or type(m) == nn.Conv2d:\n",
        "            nn.init.xavier_uniform_(m.weight) # Xavier parameter initialization\n",
        "    net.apply(init_weights)\n",
        "    print('training on', device)\n",
        "\n",
        "    net.to(device) # MOVE the net to the GPU\n",
        "    optimizer = torch.optim.SGD(net.parameters(), lr=lr)\n",
        "    loss = nn.CrossEntropyLoss()\n",
        "    animator = d2l.Animator(xlabel='epoch', xlim=[1, num_epochs],\n",
        "                            legend=['train loss', 'train acc', 'test acc'])\n",
        "    timer, num_batches = d2l.Timer(), len(train_set)\n",
        "    for epoch in range(num_epochs):\n",
        "        # Sum of training loss, sum of training accuracy, no. of examples\n",
        "        metric = d2l.Accumulator(3)\n",
        "        net.train() # Set the network to training mode\n",
        "\n",
        "        for i, (X, y) in enumerate(train_set):\n",
        "            timer.start()\n",
        "            optimizer.zero_grad()\n",
        "            X, y = X.to(device), y.to(device) # MOVE each minibatch of data to the GPU\n",
        "            y_hat = net(X)\n",
        "            l = loss(y_hat, y)\n",
        "            l.backward()\n",
        "            optimizer.step()\n",
        "            with torch.no_grad(): # detach gradient calculation for avoiding effects on backpropagation calculation\n",
        "                metric.add(l * X.shape[0], d2l.accuracy(y_hat, y), X.shape[0])\n",
        "            timer.stop()\n",
        "\n",
        "            train_l = metric[0] / metric[2]\n",
        "            train_acc = metric[1] / metric[2]\n",
        "            if (i + 1) % (num_batches // 5) == 0 or i == num_batches - 1:\n",
        "                animator.add(epoch + (i + 1) / num_batches,\n",
        "                             (train_l, train_acc, None))\n",
        "        test_acc = evaluate_accuracy_gpu(net, test_set)\n",
        "        animator.add(epoch + 1, (None, None, test_acc))\n",
        "    print(f'loss {train_l:.3f}, train acc {train_acc:.3f}, '\n",
        "          f'test acc {test_acc:.3f}')\n",
        "    print(f'{metric[2] * num_epochs / timer.sum():.1f} examples/sec '\n",
        "          f'on {str(device)}')"
      ],
      "metadata": {
        "id": "TaL_2cJ4ssNk"
      },
      "execution_count": null,
      "outputs": []
    },
    {
      "cell_type": "code",
      "source": [
        "lr, num_epochs = 0.01, 24\n",
        "train(net, train_set, test_set, num_epochs, lr, device=d2l.try_gpu())"
      ],
      "metadata": {
        "colab": {
          "base_uri": "https://localhost:8080/",
          "height": 297
        },
        "id": "qF98QLW_E65P",
        "outputId": "4a392401-eb12-48ea-9278-d330ff21d64a"
      },
      "execution_count": null,
      "outputs": [
        {
          "output_type": "stream",
          "name": "stdout",
          "text": [
            "loss 1.152, train acc 0.646, test acc 0.673\n",
            "437.6 examples/sec on cuda:0\n"
          ]
        },
        {
          "output_type": "display_data",
          "data": {
            "text/plain": [
              "<Figure size 252x180 with 1 Axes>"
            ],
            "image/svg+xml": "<?xml version=\"1.0\" encoding=\"utf-8\" standalone=\"no\"?>\n<!DOCTYPE svg PUBLIC \"-//W3C//DTD SVG 1.1//EN\"\n  \"http://www.w3.org/Graphics/SVG/1.1/DTD/svg11.dtd\">\n<!-- Created with matplotlib (https://matplotlib.org/) -->\n<svg height=\"180.65625pt\" version=\"1.1\" viewBox=\"0 0 223.0625 180.65625\" width=\"223.0625pt\" xmlns=\"http://www.w3.org/2000/svg\" xmlns:xlink=\"http://www.w3.org/1999/xlink\">\n <defs>\n  <style type=\"text/css\">\n*{stroke-linecap:butt;stroke-linejoin:round;}\n  </style>\n </defs>\n <g id=\"figure_1\">\n  <g id=\"patch_1\">\n   <path d=\"M 0 180.65625 \nL 223.0625 180.65625 \nL 223.0625 0 \nL 0 0 \nz\n\" style=\"fill:none;\"/>\n  </g>\n  <g id=\"axes_1\">\n   <g id=\"patch_2\">\n    <path d=\"M 20.5625 143.1 \nL 215.8625 143.1 \nL 215.8625 7.2 \nL 20.5625 7.2 \nz\n\" style=\"fill:#ffffff;\"/>\n   </g>\n   <g id=\"matplotlib.axis_1\">\n    <g id=\"xtick_1\">\n     <g id=\"line2d_1\">\n      <path clip-path=\"url(#p5478353253)\" d=\"M 54.527717 143.1 \nL 54.527717 7.2 \n\" style=\"fill:none;stroke:#b0b0b0;stroke-linecap:square;stroke-width:0.8;\"/>\n     </g>\n     <g id=\"line2d_2\">\n      <defs>\n       <path d=\"M 0 0 \nL 0 3.5 \n\" id=\"m635e79b8b5\" style=\"stroke:#000000;stroke-width:0.8;\"/>\n      </defs>\n      <g>\n       <use style=\"stroke:#000000;stroke-width:0.8;\" x=\"54.527717\" xlink:href=\"#m635e79b8b5\" y=\"143.1\"/>\n      </g>\n     </g>\n     <g id=\"text_1\">\n      <!-- 5 -->\n      <defs>\n       <path d=\"M 10.796875 72.90625 \nL 49.515625 72.90625 \nL 49.515625 64.59375 \nL 19.828125 64.59375 \nL 19.828125 46.734375 \nQ 21.96875 47.46875 24.109375 47.828125 \nQ 26.265625 48.1875 28.421875 48.1875 \nQ 40.625 48.1875 47.75 41.5 \nQ 54.890625 34.8125 54.890625 23.390625 \nQ 54.890625 11.625 47.5625 5.09375 \nQ 40.234375 -1.421875 26.90625 -1.421875 \nQ 22.3125 -1.421875 17.546875 -0.640625 \nQ 12.796875 0.140625 7.71875 1.703125 \nL 7.71875 11.625 \nQ 12.109375 9.234375 16.796875 8.0625 \nQ 21.484375 6.890625 26.703125 6.890625 \nQ 35.15625 6.890625 40.078125 11.328125 \nQ 45.015625 15.765625 45.015625 23.390625 \nQ 45.015625 31 40.078125 35.4375 \nQ 35.15625 39.890625 26.703125 39.890625 \nQ 22.75 39.890625 18.8125 39.015625 \nQ 14.890625 38.140625 10.796875 36.28125 \nz\n\" id=\"DejaVuSans-53\"/>\n      </defs>\n      <g transform=\"translate(51.346467 157.698438)scale(0.1 -0.1)\">\n       <use xlink:href=\"#DejaVuSans-53\"/>\n      </g>\n     </g>\n    </g>\n    <g id=\"xtick_2\">\n     <g id=\"line2d_3\">\n      <path clip-path=\"url(#p5478353253)\" d=\"M 96.984239 143.1 \nL 96.984239 7.2 \n\" style=\"fill:none;stroke:#b0b0b0;stroke-linecap:square;stroke-width:0.8;\"/>\n     </g>\n     <g id=\"line2d_4\">\n      <g>\n       <use style=\"stroke:#000000;stroke-width:0.8;\" x=\"96.984239\" xlink:href=\"#m635e79b8b5\" y=\"143.1\"/>\n      </g>\n     </g>\n     <g id=\"text_2\">\n      <!-- 10 -->\n      <defs>\n       <path d=\"M 12.40625 8.296875 \nL 28.515625 8.296875 \nL 28.515625 63.921875 \nL 10.984375 60.40625 \nL 10.984375 69.390625 \nL 28.421875 72.90625 \nL 38.28125 72.90625 \nL 38.28125 8.296875 \nL 54.390625 8.296875 \nL 54.390625 0 \nL 12.40625 0 \nz\n\" id=\"DejaVuSans-49\"/>\n       <path d=\"M 31.78125 66.40625 \nQ 24.171875 66.40625 20.328125 58.90625 \nQ 16.5 51.421875 16.5 36.375 \nQ 16.5 21.390625 20.328125 13.890625 \nQ 24.171875 6.390625 31.78125 6.390625 \nQ 39.453125 6.390625 43.28125 13.890625 \nQ 47.125 21.390625 47.125 36.375 \nQ 47.125 51.421875 43.28125 58.90625 \nQ 39.453125 66.40625 31.78125 66.40625 \nz\nM 31.78125 74.21875 \nQ 44.046875 74.21875 50.515625 64.515625 \nQ 56.984375 54.828125 56.984375 36.375 \nQ 56.984375 17.96875 50.515625 8.265625 \nQ 44.046875 -1.421875 31.78125 -1.421875 \nQ 19.53125 -1.421875 13.0625 8.265625 \nQ 6.59375 17.96875 6.59375 36.375 \nQ 6.59375 54.828125 13.0625 64.515625 \nQ 19.53125 74.21875 31.78125 74.21875 \nz\n\" id=\"DejaVuSans-48\"/>\n      </defs>\n      <g transform=\"translate(90.621739 157.698438)scale(0.1 -0.1)\">\n       <use xlink:href=\"#DejaVuSans-49\"/>\n       <use x=\"63.623047\" xlink:href=\"#DejaVuSans-48\"/>\n      </g>\n     </g>\n    </g>\n    <g id=\"xtick_3\">\n     <g id=\"line2d_5\">\n      <path clip-path=\"url(#p5478353253)\" d=\"M 139.440761 143.1 \nL 139.440761 7.2 \n\" style=\"fill:none;stroke:#b0b0b0;stroke-linecap:square;stroke-width:0.8;\"/>\n     </g>\n     <g id=\"line2d_6\">\n      <g>\n       <use style=\"stroke:#000000;stroke-width:0.8;\" x=\"139.440761\" xlink:href=\"#m635e79b8b5\" y=\"143.1\"/>\n      </g>\n     </g>\n     <g id=\"text_3\">\n      <!-- 15 -->\n      <g transform=\"translate(133.078261 157.698438)scale(0.1 -0.1)\">\n       <use xlink:href=\"#DejaVuSans-49\"/>\n       <use x=\"63.623047\" xlink:href=\"#DejaVuSans-53\"/>\n      </g>\n     </g>\n    </g>\n    <g id=\"xtick_4\">\n     <g id=\"line2d_7\">\n      <path clip-path=\"url(#p5478353253)\" d=\"M 181.897283 143.1 \nL 181.897283 7.2 \n\" style=\"fill:none;stroke:#b0b0b0;stroke-linecap:square;stroke-width:0.8;\"/>\n     </g>\n     <g id=\"line2d_8\">\n      <g>\n       <use style=\"stroke:#000000;stroke-width:0.8;\" x=\"181.897283\" xlink:href=\"#m635e79b8b5\" y=\"143.1\"/>\n      </g>\n     </g>\n     <g id=\"text_4\">\n      <!-- 20 -->\n      <defs>\n       <path d=\"M 19.1875 8.296875 \nL 53.609375 8.296875 \nL 53.609375 0 \nL 7.328125 0 \nL 7.328125 8.296875 \nQ 12.9375 14.109375 22.625 23.890625 \nQ 32.328125 33.6875 34.8125 36.53125 \nQ 39.546875 41.84375 41.421875 45.53125 \nQ 43.3125 49.21875 43.3125 52.78125 \nQ 43.3125 58.59375 39.234375 62.25 \nQ 35.15625 65.921875 28.609375 65.921875 \nQ 23.96875 65.921875 18.8125 64.3125 \nQ 13.671875 62.703125 7.8125 59.421875 \nL 7.8125 69.390625 \nQ 13.765625 71.78125 18.9375 73 \nQ 24.125 74.21875 28.421875 74.21875 \nQ 39.75 74.21875 46.484375 68.546875 \nQ 53.21875 62.890625 53.21875 53.421875 \nQ 53.21875 48.921875 51.53125 44.890625 \nQ 49.859375 40.875 45.40625 35.40625 \nQ 44.1875 33.984375 37.640625 27.21875 \nQ 31.109375 20.453125 19.1875 8.296875 \nz\n\" id=\"DejaVuSans-50\"/>\n      </defs>\n      <g transform=\"translate(175.534783 157.698438)scale(0.1 -0.1)\">\n       <use xlink:href=\"#DejaVuSans-50\"/>\n       <use x=\"63.623047\" xlink:href=\"#DejaVuSans-48\"/>\n      </g>\n     </g>\n    </g>\n    <g id=\"text_5\">\n     <!-- epoch -->\n     <defs>\n      <path d=\"M 56.203125 29.59375 \nL 56.203125 25.203125 \nL 14.890625 25.203125 \nQ 15.484375 15.921875 20.484375 11.0625 \nQ 25.484375 6.203125 34.421875 6.203125 \nQ 39.59375 6.203125 44.453125 7.46875 \nQ 49.3125 8.734375 54.109375 11.28125 \nL 54.109375 2.78125 \nQ 49.265625 0.734375 44.1875 -0.34375 \nQ 39.109375 -1.421875 33.890625 -1.421875 \nQ 20.796875 -1.421875 13.15625 6.1875 \nQ 5.515625 13.8125 5.515625 26.8125 \nQ 5.515625 40.234375 12.765625 48.109375 \nQ 20.015625 56 32.328125 56 \nQ 43.359375 56 49.78125 48.890625 \nQ 56.203125 41.796875 56.203125 29.59375 \nz\nM 47.21875 32.234375 \nQ 47.125 39.59375 43.09375 43.984375 \nQ 39.0625 48.390625 32.421875 48.390625 \nQ 24.90625 48.390625 20.390625 44.140625 \nQ 15.875 39.890625 15.1875 32.171875 \nz\n\" id=\"DejaVuSans-101\"/>\n      <path d=\"M 18.109375 8.203125 \nL 18.109375 -20.796875 \nL 9.078125 -20.796875 \nL 9.078125 54.6875 \nL 18.109375 54.6875 \nL 18.109375 46.390625 \nQ 20.953125 51.265625 25.265625 53.625 \nQ 29.59375 56 35.59375 56 \nQ 45.5625 56 51.78125 48.09375 \nQ 58.015625 40.1875 58.015625 27.296875 \nQ 58.015625 14.40625 51.78125 6.484375 \nQ 45.5625 -1.421875 35.59375 -1.421875 \nQ 29.59375 -1.421875 25.265625 0.953125 \nQ 20.953125 3.328125 18.109375 8.203125 \nz\nM 48.6875 27.296875 \nQ 48.6875 37.203125 44.609375 42.84375 \nQ 40.53125 48.484375 33.40625 48.484375 \nQ 26.265625 48.484375 22.1875 42.84375 \nQ 18.109375 37.203125 18.109375 27.296875 \nQ 18.109375 17.390625 22.1875 11.75 \nQ 26.265625 6.109375 33.40625 6.109375 \nQ 40.53125 6.109375 44.609375 11.75 \nQ 48.6875 17.390625 48.6875 27.296875 \nz\n\" id=\"DejaVuSans-112\"/>\n      <path d=\"M 30.609375 48.390625 \nQ 23.390625 48.390625 19.1875 42.75 \nQ 14.984375 37.109375 14.984375 27.296875 \nQ 14.984375 17.484375 19.15625 11.84375 \nQ 23.34375 6.203125 30.609375 6.203125 \nQ 37.796875 6.203125 41.984375 11.859375 \nQ 46.1875 17.53125 46.1875 27.296875 \nQ 46.1875 37.015625 41.984375 42.703125 \nQ 37.796875 48.390625 30.609375 48.390625 \nz\nM 30.609375 56 \nQ 42.328125 56 49.015625 48.375 \nQ 55.71875 40.765625 55.71875 27.296875 \nQ 55.71875 13.875 49.015625 6.21875 \nQ 42.328125 -1.421875 30.609375 -1.421875 \nQ 18.84375 -1.421875 12.171875 6.21875 \nQ 5.515625 13.875 5.515625 27.296875 \nQ 5.515625 40.765625 12.171875 48.375 \nQ 18.84375 56 30.609375 56 \nz\n\" id=\"DejaVuSans-111\"/>\n      <path d=\"M 48.78125 52.59375 \nL 48.78125 44.1875 \nQ 44.96875 46.296875 41.140625 47.34375 \nQ 37.3125 48.390625 33.40625 48.390625 \nQ 24.65625 48.390625 19.8125 42.84375 \nQ 14.984375 37.3125 14.984375 27.296875 \nQ 14.984375 17.28125 19.8125 11.734375 \nQ 24.65625 6.203125 33.40625 6.203125 \nQ 37.3125 6.203125 41.140625 7.25 \nQ 44.96875 8.296875 48.78125 10.40625 \nL 48.78125 2.09375 \nQ 45.015625 0.34375 40.984375 -0.53125 \nQ 36.96875 -1.421875 32.421875 -1.421875 \nQ 20.0625 -1.421875 12.78125 6.34375 \nQ 5.515625 14.109375 5.515625 27.296875 \nQ 5.515625 40.671875 12.859375 48.328125 \nQ 20.21875 56 33.015625 56 \nQ 37.15625 56 41.109375 55.140625 \nQ 45.0625 54.296875 48.78125 52.59375 \nz\n\" id=\"DejaVuSans-99\"/>\n      <path d=\"M 54.890625 33.015625 \nL 54.890625 0 \nL 45.90625 0 \nL 45.90625 32.71875 \nQ 45.90625 40.484375 42.875 44.328125 \nQ 39.84375 48.1875 33.796875 48.1875 \nQ 26.515625 48.1875 22.3125 43.546875 \nQ 18.109375 38.921875 18.109375 30.90625 \nL 18.109375 0 \nL 9.078125 0 \nL 9.078125 75.984375 \nL 18.109375 75.984375 \nL 18.109375 46.1875 \nQ 21.34375 51.125 25.703125 53.5625 \nQ 30.078125 56 35.796875 56 \nQ 45.21875 56 50.046875 50.171875 \nQ 54.890625 44.34375 54.890625 33.015625 \nz\n\" id=\"DejaVuSans-104\"/>\n     </defs>\n     <g transform=\"translate(102.984375 171.376563)scale(0.1 -0.1)\">\n      <use xlink:href=\"#DejaVuSans-101\"/>\n      <use x=\"61.523438\" xlink:href=\"#DejaVuSans-112\"/>\n      <use x=\"125\" xlink:href=\"#DejaVuSans-111\"/>\n      <use x=\"186.181641\" xlink:href=\"#DejaVuSans-99\"/>\n      <use x=\"241.162109\" xlink:href=\"#DejaVuSans-104\"/>\n     </g>\n    </g>\n   </g>\n   <g id=\"matplotlib.axis_2\">\n    <g id=\"ytick_1\">\n     <g id=\"line2d_9\">\n      <path clip-path=\"url(#p5478353253)\" d=\"M 20.5625 139.055811 \nL 215.8625 139.055811 \n\" style=\"fill:none;stroke:#b0b0b0;stroke-linecap:square;stroke-width:0.8;\"/>\n     </g>\n     <g id=\"line2d_10\">\n      <defs>\n       <path d=\"M 0 0 \nL -3.5 0 \n\" id=\"m809cb3ae07\" style=\"stroke:#000000;stroke-width:0.8;\"/>\n      </defs>\n      <g>\n       <use style=\"stroke:#000000;stroke-width:0.8;\" x=\"20.5625\" xlink:href=\"#m809cb3ae07\" y=\"139.055811\"/>\n      </g>\n     </g>\n     <g id=\"text_6\">\n      <!-- 0 -->\n      <g transform=\"translate(7.2 142.85503)scale(0.1 -0.1)\">\n       <use xlink:href=\"#DejaVuSans-48\"/>\n      </g>\n     </g>\n    </g>\n    <g id=\"ytick_2\">\n     <g id=\"line2d_11\">\n      <path clip-path=\"url(#p5478353253)\" d=\"M 20.5625 99.463076 \nL 215.8625 99.463076 \n\" style=\"fill:none;stroke:#b0b0b0;stroke-linecap:square;stroke-width:0.8;\"/>\n     </g>\n     <g id=\"line2d_12\">\n      <g>\n       <use style=\"stroke:#000000;stroke-width:0.8;\" x=\"20.5625\" xlink:href=\"#m809cb3ae07\" y=\"99.463076\"/>\n      </g>\n     </g>\n     <g id=\"text_7\">\n      <!-- 1 -->\n      <g transform=\"translate(7.2 103.262295)scale(0.1 -0.1)\">\n       <use xlink:href=\"#DejaVuSans-49\"/>\n      </g>\n     </g>\n    </g>\n    <g id=\"ytick_3\">\n     <g id=\"line2d_13\">\n      <path clip-path=\"url(#p5478353253)\" d=\"M 20.5625 59.870342 \nL 215.8625 59.870342 \n\" style=\"fill:none;stroke:#b0b0b0;stroke-linecap:square;stroke-width:0.8;\"/>\n     </g>\n     <g id=\"line2d_14\">\n      <g>\n       <use style=\"stroke:#000000;stroke-width:0.8;\" x=\"20.5625\" xlink:href=\"#m809cb3ae07\" y=\"59.870342\"/>\n      </g>\n     </g>\n     <g id=\"text_8\">\n      <!-- 2 -->\n      <g transform=\"translate(7.2 63.66956)scale(0.1 -0.1)\">\n       <use xlink:href=\"#DejaVuSans-50\"/>\n      </g>\n     </g>\n    </g>\n    <g id=\"ytick_4\">\n     <g id=\"line2d_15\">\n      <path clip-path=\"url(#p5478353253)\" d=\"M 20.5625 20.277607 \nL 215.8625 20.277607 \n\" style=\"fill:none;stroke:#b0b0b0;stroke-linecap:square;stroke-width:0.8;\"/>\n     </g>\n     <g id=\"line2d_16\">\n      <g>\n       <use style=\"stroke:#000000;stroke-width:0.8;\" x=\"20.5625\" xlink:href=\"#m809cb3ae07\" y=\"20.277607\"/>\n      </g>\n     </g>\n     <g id=\"text_9\">\n      <!-- 3 -->\n      <defs>\n       <path d=\"M 40.578125 39.3125 \nQ 47.65625 37.796875 51.625 33 \nQ 55.609375 28.21875 55.609375 21.1875 \nQ 55.609375 10.40625 48.1875 4.484375 \nQ 40.765625 -1.421875 27.09375 -1.421875 \nQ 22.515625 -1.421875 17.65625 -0.515625 \nQ 12.796875 0.390625 7.625 2.203125 \nL 7.625 11.71875 \nQ 11.71875 9.328125 16.59375 8.109375 \nQ 21.484375 6.890625 26.8125 6.890625 \nQ 36.078125 6.890625 40.9375 10.546875 \nQ 45.796875 14.203125 45.796875 21.1875 \nQ 45.796875 27.640625 41.28125 31.265625 \nQ 36.765625 34.90625 28.71875 34.90625 \nL 20.21875 34.90625 \nL 20.21875 43.015625 \nL 29.109375 43.015625 \nQ 36.375 43.015625 40.234375 45.921875 \nQ 44.09375 48.828125 44.09375 54.296875 \nQ 44.09375 59.90625 40.109375 62.90625 \nQ 36.140625 65.921875 28.71875 65.921875 \nQ 24.65625 65.921875 20.015625 65.03125 \nQ 15.375 64.15625 9.8125 62.3125 \nL 9.8125 71.09375 \nQ 15.4375 72.65625 20.34375 73.4375 \nQ 25.25 74.21875 29.59375 74.21875 \nQ 40.828125 74.21875 47.359375 69.109375 \nQ 53.90625 64.015625 53.90625 55.328125 \nQ 53.90625 49.265625 50.4375 45.09375 \nQ 46.96875 40.921875 40.578125 39.3125 \nz\n\" id=\"DejaVuSans-51\"/>\n      </defs>\n      <g transform=\"translate(7.2 24.076826)scale(0.1 -0.1)\">\n       <use xlink:href=\"#DejaVuSans-51\"/>\n      </g>\n     </g>\n    </g>\n   </g>\n   <g id=\"line2d_17\">\n    <path clip-path=\"url(#p5478353253)\" d=\"M 13.767145 13.377273 \nL 18.854994 14.112328 \nL 20.5625 14.497099 \nL 22.25845 16.944075 \nL 23.954399 17.331771 \nL 25.650349 18.055757 \nL 29.053804 20.192922 \nL 30.749754 25.798255 \nL 32.445703 27.058308 \nL 34.141653 28.075387 \nL 37.545109 29.715947 \nL 39.241058 34.98279 \nL 42.632957 37.4456 \nL 44.328907 38.191198 \nL 46.036413 39.18986 \nL 47.732363 46.505155 \nL 49.428312 47.261431 \nL 51.124262 48.447611 \nL 52.820211 49.132761 \nL 54.527717 50.057009 \nL 56.223667 56.369833 \nL 57.919616 56.873489 \nL 59.615566 57.526818 \nL 61.311515 58.384586 \nL 63.019022 59.038337 \nL 64.714971 63.167486 \nL 66.410921 63.329942 \nL 68.10687 64.267794 \nL 69.80282 64.786027 \nL 71.510326 64.99631 \nL 73.206276 68.397729 \nL 74.902225 69.431045 \nL 76.598175 69.485961 \nL 78.294124 69.95713 \nL 80.00163 70.193321 \nL 81.69758 72.751639 \nL 85.089479 73.554423 \nL 86.785429 73.950713 \nL 88.492935 74.10848 \nL 90.188884 76.526281 \nL 91.884834 76.795421 \nL 93.580783 76.686605 \nL 95.276733 77.331152 \nL 96.984239 77.6311 \nL 98.680189 79.076843 \nL 100.376138 79.792727 \nL 102.072088 80.069045 \nL 105.475543 80.074863 \nL 107.171493 80.950192 \nL 108.867443 80.670202 \nL 110.563392 81.368101 \nL 112.259342 81.275311 \nL 113.966848 81.627808 \nL 115.662797 82.491942 \nL 117.358747 83.125788 \nL 119.054696 83.157375 \nL 120.750646 83.573987 \nL 122.458152 83.793477 \nL 124.154102 83.715674 \nL 125.850051 83.953914 \nL 127.546001 84.498291 \nL 130.949457 85.246765 \nL 132.645406 85.432365 \nL 134.341356 85.137339 \nL 136.037305 85.509733 \nL 137.733255 85.703218 \nL 139.440761 85.757868 \nL 141.13671 86.275783 \nL 144.528609 86.596846 \nL 146.224559 87.158931 \nL 147.932065 87.220205 \nL 149.628015 88.749189 \nL 151.323964 88.998539 \nL 153.019914 88.48607 \nL 154.715863 88.836328 \nL 156.42337 88.912844 \nL 158.119319 89.85189 \nL 159.815269 88.991764 \nL 161.511218 89.080373 \nL 163.207168 88.983983 \nL 164.914674 89.022729 \nL 166.610623 89.704035 \nL 168.306573 90.123399 \nL 171.698472 90.004463 \nL 173.405978 90.159338 \nL 175.101928 90.875299 \nL 176.797877 90.252994 \nL 178.493827 90.879469 \nL 180.189776 90.851063 \nL 181.897283 91.0524 \nL 183.593232 91.494478 \nL 185.289182 92.149216 \nL 186.985131 91.753006 \nL 188.681081 92.041286 \nL 190.388587 92.153931 \nL 192.084536 91.264694 \nL 195.476436 92.07716 \nL 197.172385 92.047738 \nL 198.879891 91.887829 \nL 200.575841 92.282683 \nL 202.27179 92.810673 \nL 203.96774 92.313119 \nL 207.371196 92.899111 \nL 209.067145 93.558145 \nL 210.763095 93.696164 \nL 212.459044 93.709808 \nL 214.154994 93.450825 \nL 215.8625 93.460001 \nL 215.8625 93.460001 \n\" style=\"fill:none;stroke:#1f77b4;stroke-linecap:square;stroke-width:1.5;\"/>\n   </g>\n   <g id=\"line2d_18\">\n    <path clip-path=\"url(#p5478353253)\" d=\"M 13.767145 136.922727 \nL 15.463095 136.665577 \nL 17.159044 136.641689 \nL 20.5625 136.380035 \nL 22.25845 135.700209 \nL 25.650349 135.413549 \nL 27.346298 135.16483 \nL 29.053804 134.803869 \nL 30.749754 133.786335 \nL 32.445703 133.377424 \nL 35.837602 132.869446 \nL 37.545109 132.683792 \nL 39.241058 131.096795 \nL 46.036413 129.903612 \nL 47.732363 127.968834 \nL 49.428312 127.774917 \nL 52.820211 127.020328 \nL 54.527717 126.749597 \nL 56.223667 124.790286 \nL 57.919616 124.722836 \nL 63.019022 124.088976 \nL 64.714971 122.615046 \nL 66.410921 122.690927 \nL 69.80282 122.267261 \nL 71.510326 122.120453 \nL 73.206276 121.249198 \nL 78.294124 120.734897 \nL 80.00163 120.613329 \nL 81.69758 119.782176 \nL 83.393529 119.554534 \nL 88.492935 119.345325 \nL 90.188884 118.28986 \nL 93.580783 118.514691 \nL 96.984239 118.309703 \nL 100.376138 117.678601 \nL 102.072088 117.553539 \nL 105.475543 117.555299 \nL 107.171493 117.328708 \nL 108.867443 117.311845 \nL 110.563392 117.12917 \nL 113.966848 117.016439 \nL 115.662797 116.704802 \nL 117.358747 116.565688 \nL 119.054696 116.575524 \nL 122.458152 116.317605 \nL 124.154102 116.418142 \nL 125.850051 116.388633 \nL 129.24195 116.049279 \nL 132.645406 115.811099 \nL 134.341356 115.967075 \nL 139.429204 115.748708 \nL 139.440761 115.75517 \nL 141.13671 115.524439 \nL 144.528609 115.544112 \nL 147.932065 115.413331 \nL 149.628015 114.858377 \nL 151.323964 114.790928 \nL 153.019914 114.917396 \nL 154.715863 114.744557 \nL 158.119319 114.647598 \nL 159.815269 114.883671 \nL 164.903117 114.816222 \nL 164.914674 114.820585 \nL 166.610623 114.571718 \nL 170.002522 114.467734 \nL 173.405978 114.394549 \nL 175.101928 114.251334 \nL 176.797877 114.415741 \nL 178.493827 114.217609 \nL 181.897283 114.126803 \nL 183.593232 113.812913 \nL 185.289182 113.669584 \nL 186.985131 113.815724 \nL 190.388587 113.690663 \nL 192.084536 113.989968 \nL 197.172385 113.779189 \nL 200.575841 113.905656 \nL 202.27179 113.56841 \nL 203.96774 113.745464 \nL 207.371196 113.571103 \nL 212.459044 113.540306 \nL 215.8625 113.466699 \nL 215.8625 113.466699 \n\" style=\"fill:none;stroke:#bf00bf;stroke-dasharray:5.55,2.4;stroke-dashoffset:0;stroke-width:1.5;\"/>\n   </g>\n   <g id=\"line2d_19\">\n    <path clip-path=\"url(#p5478353253)\" d=\"M 20.5625 135.60893 \nL 29.053804 133.222627 \nL 37.545109 130.836325 \nL 46.036413 126.872411 \nL 54.527717 124.704853 \nL 63.019022 121.562888 \nL 71.510326 120.091335 \nL 80.00163 118.308237 \nL 88.492935 117.439888 \nL 96.984239 118.14915 \nL 105.475543 116.777026 \nL 113.966848 116.180451 \nL 122.458152 115.617018 \nL 130.949457 115.776105 \nL 139.440761 114.370838 \nL 147.932065 114.26478 \nL 156.42337 114.26478 \nL 164.914674 114.112322 \nL 173.405978 113.369917 \nL 181.897283 113.197573 \nL 190.388587 112.813113 \nL 198.879891 112.600997 \nL 207.371196 113.270487 \nL 215.8625 112.428653 \n\" style=\"fill:none;stroke:#008000;stroke-dasharray:9.6,2.4,1.5,2.4;stroke-dashoffset:0;stroke-width:1.5;\"/>\n   </g>\n   <g id=\"patch_3\">\n    <path d=\"M 20.5625 143.1 \nL 20.5625 7.2 \n\" style=\"fill:none;stroke:#000000;stroke-linecap:square;stroke-linejoin:miter;stroke-width:0.8;\"/>\n   </g>\n   <g id=\"patch_4\">\n    <path d=\"M 215.8625 143.1 \nL 215.8625 7.2 \n\" style=\"fill:none;stroke:#000000;stroke-linecap:square;stroke-linejoin:miter;stroke-width:0.8;\"/>\n   </g>\n   <g id=\"patch_5\">\n    <path d=\"M 20.5625 143.1 \nL 215.8625 143.1 \n\" style=\"fill:none;stroke:#000000;stroke-linecap:square;stroke-linejoin:miter;stroke-width:0.8;\"/>\n   </g>\n   <g id=\"patch_6\">\n    <path d=\"M 20.5625 7.2 \nL 215.8625 7.2 \n\" style=\"fill:none;stroke:#000000;stroke-linecap:square;stroke-linejoin:miter;stroke-width:0.8;\"/>\n   </g>\n   <g id=\"legend_1\">\n    <g id=\"patch_7\">\n     <path d=\"M 131.09375 59.234375 \nL 208.8625 59.234375 \nQ 210.8625 59.234375 210.8625 57.234375 \nL 210.8625 14.2 \nQ 210.8625 12.2 208.8625 12.2 \nL 131.09375 12.2 \nQ 129.09375 12.2 129.09375 14.2 \nL 129.09375 57.234375 \nQ 129.09375 59.234375 131.09375 59.234375 \nz\n\" style=\"fill:#ffffff;opacity:0.8;stroke:#cccccc;stroke-linejoin:miter;\"/>\n    </g>\n    <g id=\"line2d_20\">\n     <path d=\"M 133.09375 20.298438 \nL 153.09375 20.298438 \n\" style=\"fill:none;stroke:#1f77b4;stroke-linecap:square;stroke-width:1.5;\"/>\n    </g>\n    <g id=\"line2d_21\"/>\n    <g id=\"text_10\">\n     <!-- train loss -->\n     <defs>\n      <path d=\"M 18.3125 70.21875 \nL 18.3125 54.6875 \nL 36.8125 54.6875 \nL 36.8125 47.703125 \nL 18.3125 47.703125 \nL 18.3125 18.015625 \nQ 18.3125 11.328125 20.140625 9.421875 \nQ 21.96875 7.515625 27.59375 7.515625 \nL 36.8125 7.515625 \nL 36.8125 0 \nL 27.59375 0 \nQ 17.1875 0 13.234375 3.875 \nQ 9.28125 7.765625 9.28125 18.015625 \nL 9.28125 47.703125 \nL 2.6875 47.703125 \nL 2.6875 54.6875 \nL 9.28125 54.6875 \nL 9.28125 70.21875 \nz\n\" id=\"DejaVuSans-116\"/>\n      <path d=\"M 41.109375 46.296875 \nQ 39.59375 47.171875 37.8125 47.578125 \nQ 36.03125 48 33.890625 48 \nQ 26.265625 48 22.1875 43.046875 \nQ 18.109375 38.09375 18.109375 28.8125 \nL 18.109375 0 \nL 9.078125 0 \nL 9.078125 54.6875 \nL 18.109375 54.6875 \nL 18.109375 46.1875 \nQ 20.953125 51.171875 25.484375 53.578125 \nQ 30.03125 56 36.53125 56 \nQ 37.453125 56 38.578125 55.875 \nQ 39.703125 55.765625 41.0625 55.515625 \nz\n\" id=\"DejaVuSans-114\"/>\n      <path d=\"M 34.28125 27.484375 \nQ 23.390625 27.484375 19.1875 25 \nQ 14.984375 22.515625 14.984375 16.5 \nQ 14.984375 11.71875 18.140625 8.90625 \nQ 21.296875 6.109375 26.703125 6.109375 \nQ 34.1875 6.109375 38.703125 11.40625 \nQ 43.21875 16.703125 43.21875 25.484375 \nL 43.21875 27.484375 \nz\nM 52.203125 31.203125 \nL 52.203125 0 \nL 43.21875 0 \nL 43.21875 8.296875 \nQ 40.140625 3.328125 35.546875 0.953125 \nQ 30.953125 -1.421875 24.3125 -1.421875 \nQ 15.921875 -1.421875 10.953125 3.296875 \nQ 6 8.015625 6 15.921875 \nQ 6 25.140625 12.171875 29.828125 \nQ 18.359375 34.515625 30.609375 34.515625 \nL 43.21875 34.515625 \nL 43.21875 35.40625 \nQ 43.21875 41.609375 39.140625 45 \nQ 35.0625 48.390625 27.6875 48.390625 \nQ 23 48.390625 18.546875 47.265625 \nQ 14.109375 46.140625 10.015625 43.890625 \nL 10.015625 52.203125 \nQ 14.9375 54.109375 19.578125 55.046875 \nQ 24.21875 56 28.609375 56 \nQ 40.484375 56 46.34375 49.84375 \nQ 52.203125 43.703125 52.203125 31.203125 \nz\n\" id=\"DejaVuSans-97\"/>\n      <path d=\"M 9.421875 54.6875 \nL 18.40625 54.6875 \nL 18.40625 0 \nL 9.421875 0 \nz\nM 9.421875 75.984375 \nL 18.40625 75.984375 \nL 18.40625 64.59375 \nL 9.421875 64.59375 \nz\n\" id=\"DejaVuSans-105\"/>\n      <path d=\"M 54.890625 33.015625 \nL 54.890625 0 \nL 45.90625 0 \nL 45.90625 32.71875 \nQ 45.90625 40.484375 42.875 44.328125 \nQ 39.84375 48.1875 33.796875 48.1875 \nQ 26.515625 48.1875 22.3125 43.546875 \nQ 18.109375 38.921875 18.109375 30.90625 \nL 18.109375 0 \nL 9.078125 0 \nL 9.078125 54.6875 \nL 18.109375 54.6875 \nL 18.109375 46.1875 \nQ 21.34375 51.125 25.703125 53.5625 \nQ 30.078125 56 35.796875 56 \nQ 45.21875 56 50.046875 50.171875 \nQ 54.890625 44.34375 54.890625 33.015625 \nz\n\" id=\"DejaVuSans-110\"/>\n      <path id=\"DejaVuSans-32\"/>\n      <path d=\"M 9.421875 75.984375 \nL 18.40625 75.984375 \nL 18.40625 0 \nL 9.421875 0 \nz\n\" id=\"DejaVuSans-108\"/>\n      <path d=\"M 44.28125 53.078125 \nL 44.28125 44.578125 \nQ 40.484375 46.53125 36.375 47.5 \nQ 32.28125 48.484375 27.875 48.484375 \nQ 21.1875 48.484375 17.84375 46.4375 \nQ 14.5 44.390625 14.5 40.28125 \nQ 14.5 37.15625 16.890625 35.375 \nQ 19.28125 33.59375 26.515625 31.984375 \nL 29.59375 31.296875 \nQ 39.15625 29.25 43.1875 25.515625 \nQ 47.21875 21.78125 47.21875 15.09375 \nQ 47.21875 7.46875 41.1875 3.015625 \nQ 35.15625 -1.421875 24.609375 -1.421875 \nQ 20.21875 -1.421875 15.453125 -0.5625 \nQ 10.6875 0.296875 5.421875 2 \nL 5.421875 11.28125 \nQ 10.40625 8.6875 15.234375 7.390625 \nQ 20.0625 6.109375 24.8125 6.109375 \nQ 31.15625 6.109375 34.5625 8.28125 \nQ 37.984375 10.453125 37.984375 14.40625 \nQ 37.984375 18.0625 35.515625 20.015625 \nQ 33.0625 21.96875 24.703125 23.78125 \nL 21.578125 24.515625 \nQ 13.234375 26.265625 9.515625 29.90625 \nQ 5.8125 33.546875 5.8125 39.890625 \nQ 5.8125 47.609375 11.28125 51.796875 \nQ 16.75 56 26.8125 56 \nQ 31.78125 56 36.171875 55.265625 \nQ 40.578125 54.546875 44.28125 53.078125 \nz\n\" id=\"DejaVuSans-115\"/>\n     </defs>\n     <g transform=\"translate(161.09375 23.798438)scale(0.1 -0.1)\">\n      <use xlink:href=\"#DejaVuSans-116\"/>\n      <use x=\"39.208984\" xlink:href=\"#DejaVuSans-114\"/>\n      <use x=\"80.322266\" xlink:href=\"#DejaVuSans-97\"/>\n      <use x=\"141.601562\" xlink:href=\"#DejaVuSans-105\"/>\n      <use x=\"169.384766\" xlink:href=\"#DejaVuSans-110\"/>\n      <use x=\"232.763672\" xlink:href=\"#DejaVuSans-32\"/>\n      <use x=\"264.550781\" xlink:href=\"#DejaVuSans-108\"/>\n      <use x=\"292.333984\" xlink:href=\"#DejaVuSans-111\"/>\n      <use x=\"353.515625\" xlink:href=\"#DejaVuSans-115\"/>\n      <use x=\"405.615234\" xlink:href=\"#DejaVuSans-115\"/>\n     </g>\n    </g>\n    <g id=\"line2d_22\">\n     <path d=\"M 133.09375 34.976562 \nL 153.09375 34.976562 \n\" style=\"fill:none;stroke:#bf00bf;stroke-dasharray:5.55,2.4;stroke-dashoffset:0;stroke-width:1.5;\"/>\n    </g>\n    <g id=\"line2d_23\"/>\n    <g id=\"text_11\">\n     <!-- train acc -->\n     <g transform=\"translate(161.09375 38.476562)scale(0.1 -0.1)\">\n      <use xlink:href=\"#DejaVuSans-116\"/>\n      <use x=\"39.208984\" xlink:href=\"#DejaVuSans-114\"/>\n      <use x=\"80.322266\" xlink:href=\"#DejaVuSans-97\"/>\n      <use x=\"141.601562\" xlink:href=\"#DejaVuSans-105\"/>\n      <use x=\"169.384766\" xlink:href=\"#DejaVuSans-110\"/>\n      <use x=\"232.763672\" xlink:href=\"#DejaVuSans-32\"/>\n      <use x=\"264.550781\" xlink:href=\"#DejaVuSans-97\"/>\n      <use x=\"325.830078\" xlink:href=\"#DejaVuSans-99\"/>\n      <use x=\"380.810547\" xlink:href=\"#DejaVuSans-99\"/>\n     </g>\n    </g>\n    <g id=\"line2d_24\">\n     <path d=\"M 133.09375 49.654688 \nL 153.09375 49.654688 \n\" style=\"fill:none;stroke:#008000;stroke-dasharray:9.6,2.4,1.5,2.4;stroke-dashoffset:0;stroke-width:1.5;\"/>\n    </g>\n    <g id=\"line2d_25\"/>\n    <g id=\"text_12\">\n     <!-- test acc -->\n     <g transform=\"translate(161.09375 53.154688)scale(0.1 -0.1)\">\n      <use xlink:href=\"#DejaVuSans-116\"/>\n      <use x=\"39.208984\" xlink:href=\"#DejaVuSans-101\"/>\n      <use x=\"100.732422\" xlink:href=\"#DejaVuSans-115\"/>\n      <use x=\"152.832031\" xlink:href=\"#DejaVuSans-116\"/>\n      <use x=\"192.041016\" xlink:href=\"#DejaVuSans-32\"/>\n      <use x=\"223.828125\" xlink:href=\"#DejaVuSans-97\"/>\n      <use x=\"285.107422\" xlink:href=\"#DejaVuSans-99\"/>\n      <use x=\"340.087891\" xlink:href=\"#DejaVuSans-99\"/>\n     </g>\n    </g>\n   </g>\n  </g>\n </g>\n <defs>\n  <clipPath id=\"p5478353253\">\n   <rect height=\"135.9\" width=\"195.3\" x=\"20.5625\" y=\"7.2\"/>\n  </clipPath>\n </defs>\n</svg>\n"
          },
          "metadata": {
            "needs_background": "light"
          }
        }
      ]
    },
    {
      "cell_type": "markdown",
      "source": [
        "# What can we say about the graph above?"
      ],
      "metadata": {
        "id": "LZ5FYzoX68gP"
      }
    },
    {
      "cell_type": "markdown",
      "source": [
        "**Verify the model's accuracy levels:**\n",
        "- **Train Accuracy** level: 65%\n",
        "- **Test Accuracy** level: 66,2%\n",
        "\n",
        "Even though the model's performances don't reach the 100% of accuracy, the model has improved a lot from the beginning of my project which started with vary bad results.\n",
        "\n",
        "A fondamental aspect that results from the graph is that Train and Test Accuracy are very close to each other, so it doesn't seem returning overfitting or underfitting cases over my data.\n",
        "\n",
        "**What about the train loss?**\n",
        "\n",
        "In terms of performances the train loss is still quite high, mostly in the initial state of the training; however, it seems having a good tendency since it continuosly decrease during the training phase.\n",
        "Due to this tendency, I can expect that, by increasing even more the number of epochs, the train loss will decrease as well becoming very small."
      ],
      "metadata": {
        "id": "kKri7W7k7F7a"
      }
    },
    {
      "cell_type": "markdown",
      "source": [
        "# Some final comments about my project:"
      ],
      "metadata": {
        "id": "LRnIINpKDLIL"
      }
    },
    {
      "cell_type": "markdown",
      "source": [
        "The choice of implementing AlexNet Model and the performances improvement as well, turn out after many steps:\n",
        "- Implementation of different kind of models as LeNet, GoogleNet and ResNet\n",
        "- Initial use of a sample of my data, then increased it time by time deciding to finally use the whole data available\n",
        "- Increase of the number of layers in order to improve the model's ability to learn the dataset's features more deeply.\n",
        "- Increase of number of epochs\n",
        "\n",
        "And after all these tries I've verified that, considering my datataset, it was the best way to front the development."
      ],
      "metadata": {
        "id": "QLAECOy3-Au6"
      }
    },
    {
      "cell_type": "markdown",
      "source": [
        "**Note**: compressed dataset file couldn't be attached due to its size."
      ],
      "metadata": {
        "id": "SRRio8IE3xDe"
      }
    }
  ]
}